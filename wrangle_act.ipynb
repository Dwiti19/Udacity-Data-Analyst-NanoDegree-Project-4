{
 "cells": [
  {
   "cell_type": "markdown",
   "metadata": {},
   "source": [
    "# Project 4: WeRateDogs\n",
    "\n",
    "## Wrangling and Analyzing Twitter Data\n",
    "\n",
    "## Table of Contents\n",
    "<ul>\n",
    "<li><a href=\"#intro\">Introduction</a></li>\n",
    "<li><a href=\"#gather\">Gathering data</a></li>\n",
    "<li><a href=\"#access\">Assessing data</a></li>\n",
    "<li><a href=\"#clean\">Cleaning data</a></li>\n",
    "<li><a href=\"#sav\">Storing, Analyzing, and Visualizing</a></li>\n",
    "</ul>\n",
    "\n",
    "<a id='intro'></a>\n",
    "## Introduction\n",
    "The aim of this project is to wrangle,analyze and visualize the archived tweets of Twitter users @dog_rates. "
   ]
  },
  {
   "cell_type": "code",
   "execution_count": 4,
   "metadata": {},
   "outputs": [],
   "source": [
    "#Import libraries\n",
    "import pandas as pd\n",
    "import numpy as np\n",
    "import matplotlib.pyplot as plt\n",
    "%matplotlib inline\n",
    "import requests\n",
    "import json\n",
    "import os\n",
    "import re\n",
    "import seaborn as sns\n",
    "from datetime import datetime\n",
    "from functools import reduce\n"
   ]
  },
  {
   "cell_type": "markdown",
   "metadata": {},
   "source": [
    "<a id='gather'></a>\n",
    "## Gather Data\n",
    "\n",
    "### Local File (Tweet_Archived)"
   ]
  },
  {
   "cell_type": "code",
   "execution_count": 5,
   "metadata": {},
   "outputs": [
    {
     "data": {
      "text/html": [
       "<div>\n",
       "<style scoped>\n",
       "    .dataframe tbody tr th:only-of-type {\n",
       "        vertical-align: middle;\n",
       "    }\n",
       "\n",
       "    .dataframe tbody tr th {\n",
       "        vertical-align: top;\n",
       "    }\n",
       "\n",
       "    .dataframe thead th {\n",
       "        text-align: right;\n",
       "    }\n",
       "</style>\n",
       "<table border=\"1\" class=\"dataframe\">\n",
       "  <thead>\n",
       "    <tr style=\"text-align: right;\">\n",
       "      <th></th>\n",
       "      <th>tweet_id</th>\n",
       "      <th>in_reply_to_status_id</th>\n",
       "      <th>in_reply_to_user_id</th>\n",
       "      <th>timestamp</th>\n",
       "      <th>source</th>\n",
       "      <th>text</th>\n",
       "      <th>retweeted_status_id</th>\n",
       "      <th>retweeted_status_user_id</th>\n",
       "      <th>retweeted_status_timestamp</th>\n",
       "      <th>expanded_urls</th>\n",
       "      <th>rating_numerator</th>\n",
       "      <th>rating_denominator</th>\n",
       "      <th>name</th>\n",
       "      <th>doggo</th>\n",
       "      <th>floofer</th>\n",
       "      <th>pupper</th>\n",
       "      <th>puppo</th>\n",
       "    </tr>\n",
       "  </thead>\n",
       "  <tbody>\n",
       "    <tr>\n",
       "      <th>0</th>\n",
       "      <td>892420643555336193</td>\n",
       "      <td>NaN</td>\n",
       "      <td>NaN</td>\n",
       "      <td>2017-08-01 16:23:56 +0000</td>\n",
       "      <td>&lt;a href=\"http://twitter.com/download/iphone\" r...</td>\n",
       "      <td>This is Phineas. He's a mystical boy. Only eve...</td>\n",
       "      <td>NaN</td>\n",
       "      <td>NaN</td>\n",
       "      <td>NaN</td>\n",
       "      <td>https://twitter.com/dog_rates/status/892420643...</td>\n",
       "      <td>13</td>\n",
       "      <td>10</td>\n",
       "      <td>Phineas</td>\n",
       "      <td>None</td>\n",
       "      <td>None</td>\n",
       "      <td>None</td>\n",
       "      <td>None</td>\n",
       "    </tr>\n",
       "    <tr>\n",
       "      <th>1</th>\n",
       "      <td>892177421306343426</td>\n",
       "      <td>NaN</td>\n",
       "      <td>NaN</td>\n",
       "      <td>2017-08-01 00:17:27 +0000</td>\n",
       "      <td>&lt;a href=\"http://twitter.com/download/iphone\" r...</td>\n",
       "      <td>This is Tilly. She's just checking pup on you....</td>\n",
       "      <td>NaN</td>\n",
       "      <td>NaN</td>\n",
       "      <td>NaN</td>\n",
       "      <td>https://twitter.com/dog_rates/status/892177421...</td>\n",
       "      <td>13</td>\n",
       "      <td>10</td>\n",
       "      <td>Tilly</td>\n",
       "      <td>None</td>\n",
       "      <td>None</td>\n",
       "      <td>None</td>\n",
       "      <td>None</td>\n",
       "    </tr>\n",
       "  </tbody>\n",
       "</table>\n",
       "</div>"
      ],
      "text/plain": [
       "             tweet_id  in_reply_to_status_id  in_reply_to_user_id  \\\n",
       "0  892420643555336193                    NaN                  NaN   \n",
       "1  892177421306343426                    NaN                  NaN   \n",
       "\n",
       "                   timestamp  \\\n",
       "0  2017-08-01 16:23:56 +0000   \n",
       "1  2017-08-01 00:17:27 +0000   \n",
       "\n",
       "                                              source  \\\n",
       "0  <a href=\"http://twitter.com/download/iphone\" r...   \n",
       "1  <a href=\"http://twitter.com/download/iphone\" r...   \n",
       "\n",
       "                                                text  retweeted_status_id  \\\n",
       "0  This is Phineas. He's a mystical boy. Only eve...                  NaN   \n",
       "1  This is Tilly. She's just checking pup on you....                  NaN   \n",
       "\n",
       "   retweeted_status_user_id retweeted_status_timestamp  \\\n",
       "0                       NaN                        NaN   \n",
       "1                       NaN                        NaN   \n",
       "\n",
       "                                       expanded_urls  rating_numerator  \\\n",
       "0  https://twitter.com/dog_rates/status/892420643...                13   \n",
       "1  https://twitter.com/dog_rates/status/892177421...                13   \n",
       "\n",
       "   rating_denominator     name doggo floofer pupper puppo  \n",
       "0                  10  Phineas  None    None   None  None  \n",
       "1                  10    Tilly  None    None   None  None  "
      ]
     },
     "execution_count": 5,
     "metadata": {},
     "output_type": "execute_result"
    }
   ],
   "source": [
    "# Load your archived data and print out a few lines\n",
    "twitter = pd.read_csv('twitter-archive-enhanced.csv')\n",
    "twitter.head(2)"
   ]
  },
  {
   "cell_type": "code",
   "execution_count": 6,
   "metadata": {},
   "outputs": [
    {
     "name": "stdout",
     "output_type": "stream",
     "text": [
      "<class 'pandas.core.frame.DataFrame'>\n",
      "RangeIndex: 2356 entries, 0 to 2355\n",
      "Data columns (total 17 columns):\n",
      "tweet_id                      2356 non-null int64\n",
      "in_reply_to_status_id         78 non-null float64\n",
      "in_reply_to_user_id           78 non-null float64\n",
      "timestamp                     2356 non-null object\n",
      "source                        2356 non-null object\n",
      "text                          2356 non-null object\n",
      "retweeted_status_id           181 non-null float64\n",
      "retweeted_status_user_id      181 non-null float64\n",
      "retweeted_status_timestamp    181 non-null object\n",
      "expanded_urls                 2297 non-null object\n",
      "rating_numerator              2356 non-null int64\n",
      "rating_denominator            2356 non-null int64\n",
      "name                          2356 non-null object\n",
      "doggo                         2356 non-null object\n",
      "floofer                       2356 non-null object\n",
      "pupper                        2356 non-null object\n",
      "puppo                         2356 non-null object\n",
      "dtypes: float64(4), int64(3), object(10)\n",
      "memory usage: 313.0+ KB\n"
     ]
    }
   ],
   "source": [
    "twitter.info()"
   ]
  },
  {
   "cell_type": "markdown",
   "metadata": {},
   "source": [
    "### URL (Image Predictions)"
   ]
  },
  {
   "cell_type": "code",
   "execution_count": 7,
   "metadata": {},
   "outputs": [],
   "source": [
    "# Download the TSV tweet image prediction file and create a data frame to load the file\n",
    "\n",
    "prediction = ('https://d17h27t6h515a5.cloudfront.net/topher/2017/August/599fd2ad_image-predictions/image-predictions.tsv')\n",
    "response = requests.get(prediction)\n",
    "\n",
    "with open ('image-predictions.tsv', mode ='wb') as file:\n",
    "    file.write(response.content)\n",
    "\n",
    "#load TSV file into a dataframe\n",
    "image_prediction = pd.read_csv('image-predictions.tsv', sep='\\t' )"
   ]
  },
  {
   "cell_type": "code",
   "execution_count": 8,
   "metadata": {},
   "outputs": [
    {
     "data": {
      "text/html": [
       "<div>\n",
       "<style scoped>\n",
       "    .dataframe tbody tr th:only-of-type {\n",
       "        vertical-align: middle;\n",
       "    }\n",
       "\n",
       "    .dataframe tbody tr th {\n",
       "        vertical-align: top;\n",
       "    }\n",
       "\n",
       "    .dataframe thead th {\n",
       "        text-align: right;\n",
       "    }\n",
       "</style>\n",
       "<table border=\"1\" class=\"dataframe\">\n",
       "  <thead>\n",
       "    <tr style=\"text-align: right;\">\n",
       "      <th></th>\n",
       "      <th>tweet_id</th>\n",
       "      <th>jpg_url</th>\n",
       "      <th>img_num</th>\n",
       "      <th>p1</th>\n",
       "      <th>p1_conf</th>\n",
       "      <th>p1_dog</th>\n",
       "      <th>p2</th>\n",
       "      <th>p2_conf</th>\n",
       "      <th>p2_dog</th>\n",
       "      <th>p3</th>\n",
       "      <th>p3_conf</th>\n",
       "      <th>p3_dog</th>\n",
       "    </tr>\n",
       "  </thead>\n",
       "  <tbody>\n",
       "    <tr>\n",
       "      <th>0</th>\n",
       "      <td>666020888022790149</td>\n",
       "      <td>https://pbs.twimg.com/media/CT4udn0WwAA0aMy.jpg</td>\n",
       "      <td>1</td>\n",
       "      <td>Welsh_springer_spaniel</td>\n",
       "      <td>0.465074</td>\n",
       "      <td>True</td>\n",
       "      <td>collie</td>\n",
       "      <td>0.156665</td>\n",
       "      <td>True</td>\n",
       "      <td>Shetland_sheepdog</td>\n",
       "      <td>0.061428</td>\n",
       "      <td>True</td>\n",
       "    </tr>\n",
       "    <tr>\n",
       "      <th>1</th>\n",
       "      <td>666029285002620928</td>\n",
       "      <td>https://pbs.twimg.com/media/CT42GRgUYAA5iDo.jpg</td>\n",
       "      <td>1</td>\n",
       "      <td>redbone</td>\n",
       "      <td>0.506826</td>\n",
       "      <td>True</td>\n",
       "      <td>miniature_pinscher</td>\n",
       "      <td>0.074192</td>\n",
       "      <td>True</td>\n",
       "      <td>Rhodesian_ridgeback</td>\n",
       "      <td>0.072010</td>\n",
       "      <td>True</td>\n",
       "    </tr>\n",
       "  </tbody>\n",
       "</table>\n",
       "</div>"
      ],
      "text/plain": [
       "             tweet_id                                          jpg_url  \\\n",
       "0  666020888022790149  https://pbs.twimg.com/media/CT4udn0WwAA0aMy.jpg   \n",
       "1  666029285002620928  https://pbs.twimg.com/media/CT42GRgUYAA5iDo.jpg   \n",
       "\n",
       "   img_num                      p1   p1_conf  p1_dog                  p2  \\\n",
       "0        1  Welsh_springer_spaniel  0.465074    True              collie   \n",
       "1        1                 redbone  0.506826    True  miniature_pinscher   \n",
       "\n",
       "    p2_conf  p2_dog                   p3   p3_conf  p3_dog  \n",
       "0  0.156665    True    Shetland_sheepdog  0.061428    True  \n",
       "1  0.074192    True  Rhodesian_ridgeback  0.072010    True  "
      ]
     },
     "execution_count": 8,
     "metadata": {},
     "output_type": "execute_result"
    }
   ],
   "source": [
    "image_prediction.head(2)"
   ]
  },
  {
   "cell_type": "markdown",
   "metadata": {},
   "source": [
    "# Twitter API"
   ]
  },
  {
   "cell_type": "code",
   "execution_count": 9,
   "metadata": {},
   "outputs": [],
   "source": [
    "# Twitter API access tokens and Key\n",
    "import tweepy\n",
    "from tweepy import OAuthHandler\n",
    "import time\n",
    "import sys\n",
    "import csv\n",
    "\n",
    "# Twitter API for more data (save to local file)\n",
    "consumer_key = ''\n",
    "consumer_secret = ''\n",
    "access_token = ''\n",
    "access_secret = ''\n",
    "\n",
    "auth = tweepy.OAuthHandler(consumer_key, consumer_secret)\n",
    "auth.set_access_token(access_token, access_secret)\n",
    "\n",
    "api = tweepy.API(auth,parser=tweepy.parsers.JSONParser())\n"
   ]
  },
  {
   "cell_type": "code",
   "execution_count": 10,
   "metadata": {},
   "outputs": [
    {
     "name": "stdout",
     "output_type": "stream",
     "text": [
      "888202515573088257\n",
      "873697596434513921\n",
      "872668790621863937\n",
      "869988702071779329\n",
      "866816280283807744\n",
      "861769973181624320\n",
      "845459076796616705\n",
      "842892208864923648\n",
      "837012587749474308\n",
      "827228250799742977\n",
      "812747805718642688\n",
      "802247111496568832\n",
      "775096608509886464\n",
      "770743923962707968\n"
     ]
    },
    {
     "name": "stderr",
     "output_type": "stream",
     "text": [
      "Rate limit reached. Sleeping for: 681\n"
     ]
    },
    {
     "name": "stdout",
     "output_type": "stream",
     "text": [
      "754011816964026368\n",
      "680055455951884288\n"
     ]
    },
    {
     "name": "stderr",
     "output_type": "stream",
     "text": [
      "Rate limit reached. Sleeping for: 673\n"
     ]
    }
   ],
   "source": [
    "# Use Twitter API to collect status data on tweets present in twitter1 dataframe\n",
    "tweet_ids = list(twitter['tweet_id'])\n",
    "\n",
    "tweet_data = []\n",
    "tweet_id_success = []\n",
    "tweet_id_missing = []\n",
    "for tweet_id in tweet_ids:\n",
    "    try:\n",
    "        data = api.get_status(tweet_id, \n",
    "                              tweet_mode='extended',\n",
    "                              wait_on_rate_limit = True,\n",
    "                              wait_on_rate_limit_notify = True)\n",
    "        tweet_data.append(data)\n",
    "        tweet_id_success.append(tweet_id)\n",
    "    except:\n",
    "        tweet_id_missing.append(tweet_id)\n",
    "        print(tweet_id)"
   ]
  },
  {
   "cell_type": "code",
   "execution_count": 11,
   "metadata": {},
   "outputs": [],
   "source": [
    "# Write tweet data to json file\n",
    "with open('tweet_json.txt', mode = 'w') as file:\n",
    "    json.dump(tweet_data, file)"
   ]
  },
  {
   "cell_type": "code",
   "execution_count": 12,
   "metadata": {},
   "outputs": [],
   "source": [
    "# Load the Twitter API data\n",
    "twitter1= pd.read_json('tweet_json.txt')\n",
    "twitter1['tweet_id'] = tweet_id_success\n",
    "twitter1 = twitter1[['tweet_id', 'favorite_count', 'retweet_count']]"
   ]
  },
  {
   "cell_type": "markdown",
   "metadata": {},
   "source": [
    "<a id='access'></a>\n",
    "# Access Data\n",
    "\n",
    "Two types of assessment are used:\n",
    "\n",
    "- Visual assessment: each piece of gathered data is displayed in the Jupyter Notebook for visual assessment purposes. Once displayed, data can additionally be assessed in an external application (e.g. Excel, text editor).\n",
    "- Programmatic assessment: pandas' functions and/or methods are used to assess the data.\n",
    "\n",
    "Identify at least eight (8) data quality issues and two (2) tidiness issues are detected, and include the issues to clean.Each issue is documented in one to a few sentences each.\n"
   ]
  },
  {
   "cell_type": "code",
   "execution_count": 13,
   "metadata": {},
   "outputs": [
    {
     "name": "stdout",
     "output_type": "stream",
     "text": [
      "<class 'pandas.core.frame.DataFrame'>\n",
      "RangeIndex: 2356 entries, 0 to 2355\n",
      "Data columns (total 17 columns):\n",
      "tweet_id                      2356 non-null int64\n",
      "in_reply_to_status_id         78 non-null float64\n",
      "in_reply_to_user_id           78 non-null float64\n",
      "timestamp                     2356 non-null object\n",
      "source                        2356 non-null object\n",
      "text                          2356 non-null object\n",
      "retweeted_status_id           181 non-null float64\n",
      "retweeted_status_user_id      181 non-null float64\n",
      "retweeted_status_timestamp    181 non-null object\n",
      "expanded_urls                 2297 non-null object\n",
      "rating_numerator              2356 non-null int64\n",
      "rating_denominator            2356 non-null int64\n",
      "name                          2356 non-null object\n",
      "doggo                         2356 non-null object\n",
      "floofer                       2356 non-null object\n",
      "pupper                        2356 non-null object\n",
      "puppo                         2356 non-null object\n",
      "dtypes: float64(4), int64(3), object(10)\n",
      "memory usage: 313.0+ KB\n"
     ]
    }
   ],
   "source": [
    "twitter.info()"
   ]
  },
  {
   "cell_type": "code",
   "execution_count": 14,
   "metadata": {},
   "outputs": [
    {
     "data": {
      "text/plain": [
       "http://www.gofundme.com/bluethewhitehusky,https://twitter.com/dog_rates/status/831650051525054464/photo/1,https://twitter.com/dog_rates/status/831650051525054464/photo/1,https://twitter.com/dog_rates/status/831650051525054464/photo/1,https://twitter.com/dog_rates/status/831650051525054464/photo/1    2\n",
       "https://www.gofundme.com/lolas-life-saving-surgery-funds,https://twitter.com/dog_rates/status/835264098648616962/photo/1,https://twitter.com/dog_rates/status/835264098648616962/photo/1                                                                                                                     2\n",
       "https://twitter.com/dog_rates/status/783839966405230592/photo/1,https://twitter.com/dog_rates/status/783839966405230592/photo/1,https://twitter.com/dog_rates/status/783839966405230592/photo/1                                                                                                              2\n",
       "https://twitter.com/dog_rates/status/681694085539872773/photo/1                                                                                                                                                                                                                                              2\n",
       "https://www.loveyourmelon.com/pages/ourstory,https://twitter.com/dog_rates/status/820314633777061888/photo/1,https://twitter.com/dog_rates/status/820314633777061888/photo/1,https://twitter.com/dog_rates/status/820314633777061888/photo/1                                                                 2\n",
       "https://twitter.com/dog_rates/status/700143752053182464/photo/1                                                                                                                                                                                                                                              2\n",
       "https://twitter.com/dog_rates/status/809920764300447744/photo/1                                                                                                                                                                                                                                              2\n",
       "https://twitter.com/dog_rates/status/829501995190984704/photo/1,https://twitter.com/dog_rates/status/829501995190984704/photo/1                                                                                                                                                                              2\n",
       "https://twitter.com/dog_rates/status/820749716845686786/photo/1,https://twitter.com/dog_rates/status/820749716845686786/photo/1                                                                                                                                                                              2\n",
       "https://twitter.com/dog_rates/status/762464539388485633/photo/1,https://twitter.com/dog_rates/status/762464539388485633/photo/1,https://twitter.com/dog_rates/status/762464539388485633/photo/1,https://twitter.com/dog_rates/status/762464539388485633/photo/1                                              2\n",
       "https://twitter.com/dog_rates/status/673295268553605120/photo/1                                                                                                                                                                                                                                              2\n",
       "https://twitter.com/dog_rates/status/837820167694528512/photo/1,https://twitter.com/dog_rates/status/837820167694528512/photo/1                                                                                                                                                                              2\n",
       "https://www.gofundme.com/3hgsuu0,https://twitter.com/dog_rates/status/840632337062862849/photo/1                                                                                                                                                                                                             2\n",
       "https://twitter.com/dog_rates/status/878057613040115712/photo/1,https://twitter.com/dog_rates/status/878057613040115712/photo/1                                                                                                                                                                              2\n",
       "https://twitter.com/dog_rates/status/739979191639244800/photo/1                                                                                                                                                                                                                                              2\n",
       "https://twitter.com/dog_rates/status/687317306314240000/photo/1,https://twitter.com/dog_rates/status/687317306314240000/photo/1                                                                                                                                                                              2\n",
       "https://twitter.com/dog_rates/status/767754930266464257/photo/1                                                                                                                                                                                                                                              2\n",
       "https://twitter.com/dog_rates/status/819227688460238848/photo/1                                                                                                                                                                                                                                              2\n",
       "https://www.gofundme.com/3ti3nps,https://twitter.com/dog_rates/status/868552278524837888/photo/1,https://twitter.com/dog_rates/status/868552278524837888/photo/1                                                                                                                                             2\n",
       "https://twitter.com/dog_rates/status/775733305207554048/photo/1                                                                                                                                                                                                                                              2\n",
       "https://vine.co/v/ea0OwvPTx9l                                                                                                                                                                                                                                                                                2\n",
       "https://twitter.com/dog_rates/status/666104133288665088/photo/1                                                                                                                                                                                                                                              2\n",
       "https://twitter.com/dog_rates/status/704761120771465216/photo/1,https://twitter.com/dog_rates/status/704761120771465216/photo/1                                                                                                                                                                              2\n",
       "https://twitter.com/dog_rates/status/740373189193256964/photo/1,https://twitter.com/dog_rates/status/740373189193256964/photo/1,https://twitter.com/dog_rates/status/740373189193256964/photo/1,https://twitter.com/dog_rates/status/740373189193256964/photo/1                                              2\n",
       "https://twitter.com/dog_rates/status/759923798737051648/photo/1                                                                                                                                                                                                                                              2\n",
       "https://twitter.com/dog_rates/status/700747788515020802/photo/1                                                                                                                                                                                                                                              2\n",
       "https://twitter.com/dog_rates/status/750719632563142656/photo/1                                                                                                                                                                                                                                              2\n",
       "https://www.gofundme.com/helpquinny,https://twitter.com/dog_rates/status/863062471531167744/photo/1,https://twitter.com/dog_rates/status/863062471531167744/photo/1,https://twitter.com/dog_rates/status/863062471531167744/photo/1,https://twitter.com/dog_rates/status/863062471531167744/photo/1          2\n",
       "https://twitter.com/dog_rates/status/762699858130116608/photo/1                                                                                                                                                                                                                                              2\n",
       "https://twitter.com/dog_rates/status/809220051211603969/photo/1,https://twitter.com/dog_rates/status/809220051211603969/photo/1                                                                                                                                                                              2\n",
       "                                                                                                                                                                                                                                                                                                            ..\n",
       "https://twitter.com/dog_rates/status/703268521220972544/photo/1                                                                                                                                                                                                                                              1\n",
       "https://twitter.com/dog_rates/status/756526248105566208/photo/1                                                                                                                                                                                                                                              1\n",
       "https://twitter.com/dog_rates/status/875144289856114688/video/1                                                                                                                                                                                                                                              1\n",
       "https://twitter.com/dog_rates/status/678334497360859136/photo/1                                                                                                                                                                                                                                              1\n",
       "https://twitter.com/dog_rates/status/668620235289837568/photo/1                                                                                                                                                                                                                                              1\n",
       "https://twitter.com/dog_rates/status/712065007010385924/photo/1                                                                                                                                                                                                                                              1\n",
       "https://twitter.com/dog_rates/status/740995100998766593/photo/1                                                                                                                                                                                                                                              1\n",
       "https://twitter.com/dog_rates/status/748977405889503236/photo/1                                                                                                                                                                                                                                              1\n",
       "https://twitter.com/dog_rates/status/667369227918143488/photo/1                                                                                                                                                                                                                                              1\n",
       "https://twitter.com/dog_rates/status/856543823941562368/photo/1                                                                                                                                                                                                                                              1\n",
       "https://twitter.com/dog_rates/status/673345638550134785/photo/1                                                                                                                                                                                                                                              1\n",
       "https://twitter.com/dog_rates/status/670442337873600512/photo/1                                                                                                                                                                                                                                              1\n",
       "https://twitter.com/dog_rates/status/793500921481273345/photo/1,https://twitter.com/dog_rates/status/793500921481273345/photo/1                                                                                                                                                                              1\n",
       "https://twitter.com/dog_rates/status/869596645499047938/photo/1,https://twitter.com/dog_rates/status/869596645499047938/photo/1                                                                                                                                                                              1\n",
       "https://twitter.com/dog_rates/status/821149554670182400/video/1                                                                                                                                                                                                                                              1\n",
       "https://twitter.com/dog_rates/status/672264251789176834/photo/1                                                                                                                                                                                                                                              1\n",
       "https://twitter.com/dog_rates/status/701570477911896070/photo/1,https://twitter.com/dog_rates/status/701570477911896070/photo/1                                                                                                                                                                              1\n",
       "https://twitter.com/dog_rates/status/746507379341139972/photo/1,https://twitter.com/dog_rates/status/746507379341139972/photo/1                                                                                                                                                                              1\n",
       "https://twitter.com/dog_rates/status/819347104292290561/photo/1,https://twitter.com/dog_rates/status/819347104292290561/photo/1,https://twitter.com/dog_rates/status/819347104292290561/photo/1                                                                                                              1\n",
       "https://twitter.com/dog_rates/status/668779399630725120/photo/1                                                                                                                                                                                                                                              1\n",
       "https://twitter.com/dog_rates/status/850380195714523136/video/1                                                                                                                                                                                                                                              1\n",
       "https://twitter.com/dog_rates/status/710272297844797440/photo/1                                                                                                                                                                                                                                              1\n",
       "https://twitter.com/dog_rates/status/698262614669991936/photo/1                                                                                                                                                                                                                                              1\n",
       "https://twitter.com/dog_rates/status/799422933579902976/photo/1                                                                                                                                                                                                                                              1\n",
       "https://twitter.com/dog_rates/status/822610361945911296/photo/1                                                                                                                                                                                                                                              1\n",
       "https://twitter.com/dog_rates/status/671768281401958400/photo/1,https://twitter.com/dog_rates/status/671768281401958400/photo/1                                                                                                                                                                              1\n",
       "https://twitter.com/dog_rates/status/788765914992902144/photo/1                                                                                                                                                                                                                                              1\n",
       "https://twitter.com/dog_rates/status/686050296934563840/photo/1                                                                                                                                                                                                                                              1\n",
       "https://twitter.com/dog_rates/status/704347321748819968/photo/1                                                                                                                                                                                                                                              1\n",
       "https://twitter.com/dog_rates/status/674752233200820224/photo/1,https://twitter.com/dog_rates/status/674752233200820224/photo/1                                                                                                                                                                              1\n",
       "Name: expanded_urls, Length: 2218, dtype: int64"
      ]
     },
     "execution_count": 14,
     "metadata": {},
     "output_type": "execute_result"
    }
   ],
   "source": [
    "twitter.expanded_urls.value_counts()"
   ]
  },
  {
   "cell_type": "code",
   "execution_count": 15,
   "metadata": {},
   "outputs": [
    {
     "data": {
      "text/plain": [
       "10     2333\n",
       "11        3\n",
       "50        3\n",
       "80        2\n",
       "20        2\n",
       "2         1\n",
       "16        1\n",
       "40        1\n",
       "70        1\n",
       "15        1\n",
       "90        1\n",
       "110       1\n",
       "120       1\n",
       "130       1\n",
       "150       1\n",
       "170       1\n",
       "7         1\n",
       "0         1\n",
       "Name: rating_denominator, dtype: int64"
      ]
     },
     "execution_count": 15,
     "metadata": {},
     "output_type": "execute_result"
    }
   ],
   "source": [
    "twitter.rating_denominator.value_counts()"
   ]
  },
  {
   "cell_type": "code",
   "execution_count": 16,
   "metadata": {},
   "outputs": [
    {
     "data": {
      "text/plain": [
       "<a href=\"http://twitter.com/download/iphone\" rel=\"nofollow\">Twitter for iPhone</a>     2221\n",
       "<a href=\"http://vine.co\" rel=\"nofollow\">Vine - Make a Scene</a>                          91\n",
       "<a href=\"http://twitter.com\" rel=\"nofollow\">Twitter Web Client</a>                       33\n",
       "<a href=\"https://about.twitter.com/products/tweetdeck\" rel=\"nofollow\">TweetDeck</a>      11\n",
       "Name: source, dtype: int64"
      ]
     },
     "execution_count": 16,
     "metadata": {},
     "output_type": "execute_result"
    }
   ],
   "source": [
    "twitter.source.value_counts()"
   ]
  },
  {
   "cell_type": "code",
   "execution_count": 17,
   "metadata": {},
   "outputs": [
    {
     "data": {
      "text/plain": [
       "12      558\n",
       "11      464\n",
       "10      461\n",
       "13      351\n",
       "9       158\n",
       "8       102\n",
       "7        55\n",
       "14       54\n",
       "5        37\n",
       "6        32\n",
       "3        19\n",
       "4        17\n",
       "1         9\n",
       "2         9\n",
       "420       2\n",
       "0         2\n",
       "15        2\n",
       "75        2\n",
       "80        1\n",
       "20        1\n",
       "24        1\n",
       "26        1\n",
       "44        1\n",
       "50        1\n",
       "60        1\n",
       "165       1\n",
       "84        1\n",
       "88        1\n",
       "144       1\n",
       "182       1\n",
       "143       1\n",
       "666       1\n",
       "960       1\n",
       "1776      1\n",
       "17        1\n",
       "27        1\n",
       "45        1\n",
       "99        1\n",
       "121       1\n",
       "204       1\n",
       "Name: rating_numerator, dtype: int64"
      ]
     },
     "execution_count": 17,
     "metadata": {},
     "output_type": "execute_result"
    }
   ],
   "source": [
    "twitter.rating_numerator.value_counts()"
   ]
  },
  {
   "cell_type": "code",
   "execution_count": 18,
   "metadata": {},
   "outputs": [
    {
     "data": {
      "text/plain": [
       "None        745\n",
       "a            55\n",
       "Charlie      12\n",
       "Lucy         11\n",
       "Cooper       11\n",
       "Oliver       11\n",
       "Penny        10\n",
       "Tucker       10\n",
       "Lola         10\n",
       "Winston       9\n",
       "Bo            9\n",
       "Sadie         8\n",
       "the           8\n",
       "Buddy         7\n",
       "Toby          7\n",
       "an            7\n",
       "Daisy         7\n",
       "Bailey        7\n",
       "Milo          6\n",
       "Jax           6\n",
       "Leo           6\n",
       "Bella         6\n",
       "Scout         6\n",
       "Oscar         6\n",
       "Stanley       6\n",
       "Koda          6\n",
       "Dave          6\n",
       "Jack          6\n",
       "Rusty         6\n",
       "George        5\n",
       "           ... \n",
       "Ebby          1\n",
       "Beemo         1\n",
       "Liam          1\n",
       "Obi           1\n",
       "Gustav        1\n",
       "Shadoe        1\n",
       "this          1\n",
       "Petrick       1\n",
       "Flurpson      1\n",
       "Jockson       1\n",
       "Mitch         1\n",
       "Fwed          1\n",
       "Jeffri        1\n",
       "Cal           1\n",
       "Sparky        1\n",
       "Howie         1\n",
       "old           1\n",
       "Einstein      1\n",
       "Hanz          1\n",
       "Godzilla      1\n",
       "Skittles      1\n",
       "Ridley        1\n",
       "Randall       1\n",
       "Emmie         1\n",
       "Tuck          1\n",
       "Pubert        1\n",
       "Jaspers       1\n",
       "Link          1\n",
       "Cannon        1\n",
       "Mimosa        1\n",
       "Name: name, Length: 957, dtype: int64"
      ]
     },
     "execution_count": 18,
     "metadata": {},
     "output_type": "execute_result"
    }
   ],
   "source": [
    "twitter.name.value_counts()"
   ]
  },
  {
   "cell_type": "code",
   "execution_count": 19,
   "metadata": {},
   "outputs": [
    {
     "data": {
      "text/plain": [
       "7.757333e+17    1\n",
       "7.507196e+17    1\n",
       "6.742918e+17    1\n",
       "6.833919e+17    1\n",
       "8.269587e+17    1\n",
       "8.780576e+17    1\n",
       "7.320056e+17    1\n",
       "7.186315e+17    1\n",
       "6.732953e+17    1\n",
       "7.914070e+17    1\n",
       "8.447048e+17    1\n",
       "7.862340e+17    1\n",
       "8.685523e+17    1\n",
       "7.504293e+17    1\n",
       "8.327664e+17    1\n",
       "6.690004e+17    1\n",
       "6.873173e+17    1\n",
       "7.638376e+17    1\n",
       "7.815247e+17    1\n",
       "8.092201e+17    1\n",
       "8.000650e+17    1\n",
       "8.174239e+17    1\n",
       "8.001414e+17    1\n",
       "7.909461e+17    1\n",
       "7.867091e+17    1\n",
       "8.406323e+17    1\n",
       "8.688804e+17    1\n",
       "7.869631e+17    1\n",
       "7.733088e+17    1\n",
       "8.222448e+17    1\n",
       "               ..\n",
       "6.816941e+17    1\n",
       "7.899865e+17    1\n",
       "7.939622e+17    1\n",
       "6.800555e+17    1\n",
       "7.128090e+17    1\n",
       "8.164506e+17    1\n",
       "6.769365e+17    1\n",
       "6.675487e+17    1\n",
       "8.083449e+17    1\n",
       "7.626999e+17    1\n",
       "6.678667e+17    1\n",
       "8.479710e+17    1\n",
       "6.820881e+17    1\n",
       "8.352641e+17    1\n",
       "7.761133e+17    1\n",
       "7.902771e+17    1\n",
       "6.675484e+17    1\n",
       "7.677549e+17    1\n",
       "8.782815e+17    1\n",
       "8.663350e+17    1\n",
       "7.399792e+17    1\n",
       "7.403732e+17    1\n",
       "8.395493e+17    1\n",
       "7.001438e+17    1\n",
       "8.482894e+17    1\n",
       "7.848260e+17    1\n",
       "7.806013e+17    1\n",
       "8.305833e+17    1\n",
       "7.047611e+17    1\n",
       "7.331095e+17    1\n",
       "Name: retweeted_status_id, Length: 181, dtype: int64"
      ]
     },
     "execution_count": 19,
     "metadata": {},
     "output_type": "execute_result"
    }
   ],
   "source": [
    "twitter.retweeted_status_id.value_counts()"
   ]
  },
  {
   "cell_type": "code",
   "execution_count": 20,
   "metadata": {},
   "outputs": [
    {
     "data": {
      "text/plain": [
       "<a href=\"http://twitter.com/download/iphone\" rel=\"nofollow\">Twitter for iPhone</a>     2221\n",
       "<a href=\"http://vine.co\" rel=\"nofollow\">Vine - Make a Scene</a>                          91\n",
       "<a href=\"http://twitter.com\" rel=\"nofollow\">Twitter Web Client</a>                       33\n",
       "<a href=\"https://about.twitter.com/products/tweetdeck\" rel=\"nofollow\">TweetDeck</a>      11\n",
       "Name: source, dtype: int64"
      ]
     },
     "execution_count": 20,
     "metadata": {},
     "output_type": "execute_result"
    }
   ],
   "source": [
    "twitter.source.value_counts()"
   ]
  },
  {
   "cell_type": "code",
   "execution_count": 21,
   "metadata": {},
   "outputs": [
    {
     "data": {
      "text/plain": [
       "None     2259\n",
       "doggo      97\n",
       "Name: doggo, dtype: int64"
      ]
     },
     "execution_count": 21,
     "metadata": {},
     "output_type": "execute_result"
    }
   ],
   "source": [
    "twitter.puppo.value_counts()\n",
    "twitter.doggo.value_counts()"
   ]
  },
  {
   "cell_type": "code",
   "execution_count": 22,
   "metadata": {},
   "outputs": [
    {
     "name": "stdout",
     "output_type": "stream",
     "text": [
      "<class 'pandas.core.frame.DataFrame'>\n",
      "RangeIndex: 2075 entries, 0 to 2074\n",
      "Data columns (total 12 columns):\n",
      "tweet_id    2075 non-null int64\n",
      "jpg_url     2075 non-null object\n",
      "img_num     2075 non-null int64\n",
      "p1          2075 non-null object\n",
      "p1_conf     2075 non-null float64\n",
      "p1_dog      2075 non-null bool\n",
      "p2          2075 non-null object\n",
      "p2_conf     2075 non-null float64\n",
      "p2_dog      2075 non-null bool\n",
      "p3          2075 non-null object\n",
      "p3_conf     2075 non-null float64\n",
      "p3_dog      2075 non-null bool\n",
      "dtypes: bool(3), float64(3), int64(2), object(4)\n",
      "memory usage: 152.1+ KB\n"
     ]
    }
   ],
   "source": [
    "image_prediction.info()"
   ]
  },
  {
   "cell_type": "code",
   "execution_count": 23,
   "metadata": {},
   "outputs": [
    {
     "data": {
      "text/plain": [
       "golden_retriever             150\n",
       "Labrador_retriever           100\n",
       "Pembroke                      89\n",
       "Chihuahua                     83\n",
       "pug                           57\n",
       "chow                          44\n",
       "Samoyed                       43\n",
       "toy_poodle                    39\n",
       "Pomeranian                    38\n",
       "malamute                      30\n",
       "cocker_spaniel                30\n",
       "French_bulldog                26\n",
       "Chesapeake_Bay_retriever      23\n",
       "miniature_pinscher            23\n",
       "seat_belt                     22\n",
       "Staffordshire_bullterrier     20\n",
       "German_shepherd               20\n",
       "Siberian_husky                20\n",
       "Cardigan                      19\n",
       "web_site                      19\n",
       "teddy                         18\n",
       "Shetland_sheepdog             18\n",
       "Eskimo_dog                    18\n",
       "Maltese_dog                   18\n",
       "beagle                        18\n",
       "Rottweiler                    17\n",
       "Lakeland_terrier              17\n",
       "Shih-Tzu                      17\n",
       "kuvasz                        16\n",
       "Italian_greyhound             16\n",
       "                            ... \n",
       "coffee_mug                     1\n",
       "EntleBucher                    1\n",
       "ocarina                        1\n",
       "china_cabinet                  1\n",
       "suit                           1\n",
       "rapeseed                       1\n",
       "rotisserie                     1\n",
       "cougar                         1\n",
       "coho                           1\n",
       "clog                           1\n",
       "shield                         1\n",
       "sundial                        1\n",
       "silky_terrier                  1\n",
       "pot                            1\n",
       "African_grey                   1\n",
       "book_jacket                    1\n",
       "carton                         1\n",
       "hummingbird                    1\n",
       "leopard                        1\n",
       "snowmobile                     1\n",
       "lion                           1\n",
       "fiddler_crab                   1\n",
       "banana                         1\n",
       "killer_whale                   1\n",
       "shopping_basket                1\n",
       "water_bottle                   1\n",
       "sliding_door                   1\n",
       "picket_fence                   1\n",
       "mud_turtle                     1\n",
       "radio_telescope                1\n",
       "Name: p1, Length: 378, dtype: int64"
      ]
     },
     "execution_count": 23,
     "metadata": {},
     "output_type": "execute_result"
    }
   ],
   "source": [
    "image_prediction.p1.value_counts()"
   ]
  },
  {
   "cell_type": "code",
   "execution_count": 24,
   "metadata": {},
   "outputs": [
    {
     "data": {
      "text/plain": [
       "Labrador_retriever                104\n",
       "golden_retriever                   92\n",
       "Cardigan                           73\n",
       "Chihuahua                          44\n",
       "Pomeranian                         42\n",
       "Chesapeake_Bay_retriever           41\n",
       "French_bulldog                     41\n",
       "toy_poodle                         37\n",
       "cocker_spaniel                     34\n",
       "Siberian_husky                     33\n",
       "miniature_poodle                   33\n",
       "beagle                             28\n",
       "Eskimo_dog                         27\n",
       "collie                             27\n",
       "Pembroke                           27\n",
       "kuvasz                             26\n",
       "Italian_greyhound                  22\n",
       "American_Staffordshire_terrier     21\n",
       "Pekinese                           21\n",
       "toy_terrier                        20\n",
       "miniature_pinscher                 20\n",
       "malinois                           20\n",
       "Samoyed                            20\n",
       "chow                               20\n",
       "Boston_bull                        19\n",
       "Norwegian_elkhound                 19\n",
       "Staffordshire_bullterrier          18\n",
       "Irish_terrier                      17\n",
       "pug                                17\n",
       "kelpie                             16\n",
       "                                 ... \n",
       "sliding_door                        1\n",
       "turnstile                           1\n",
       "comic_book                          1\n",
       "china_cabinet                       1\n",
       "grey_whale                          1\n",
       "spotlight                           1\n",
       "knee_pad                            1\n",
       "umbrella                            1\n",
       "space_heater                        1\n",
       "projectile                          1\n",
       "window_shade                        1\n",
       "trench_coat                         1\n",
       "dugong                              1\n",
       "computer_keyboard                   1\n",
       "spotted_salamander                  1\n",
       "barbershop                          1\n",
       "assault_rifle                       1\n",
       "giant_panda                         1\n",
       "cowboy_boot                         1\n",
       "cradle                              1\n",
       "triceratops                         1\n",
       "goose                               1\n",
       "chimpanzee                          1\n",
       "sulphur_butterfly                   1\n",
       "breakwater                          1\n",
       "grey_fox                            1\n",
       "menu                                1\n",
       "rifle                               1\n",
       "sandal                              1\n",
       "EntleBucher                         1\n",
       "Name: p2, Length: 405, dtype: int64"
      ]
     },
     "execution_count": 24,
     "metadata": {},
     "output_type": "execute_result"
    }
   ],
   "source": [
    "image_prediction.p2.value_counts()"
   ]
  },
  {
   "cell_type": "code",
   "execution_count": 25,
   "metadata": {},
   "outputs": [
    {
     "data": {
      "text/plain": [
       "Labrador_retriever                79\n",
       "Chihuahua                         58\n",
       "golden_retriever                  48\n",
       "Eskimo_dog                        38\n",
       "kelpie                            35\n",
       "kuvasz                            34\n",
       "Staffordshire_bullterrier         32\n",
       "chow                              32\n",
       "beagle                            31\n",
       "cocker_spaniel                    31\n",
       "Pomeranian                        29\n",
       "toy_poodle                        29\n",
       "Pekinese                          29\n",
       "Great_Pyrenees                    27\n",
       "Pembroke                          27\n",
       "Chesapeake_Bay_retriever          27\n",
       "malamute                          26\n",
       "French_bulldog                    26\n",
       "American_Staffordshire_terrier    24\n",
       "Cardigan                          23\n",
       "pug                               23\n",
       "basenji                           21\n",
       "bull_mastiff                      20\n",
       "toy_terrier                       20\n",
       "Siberian_husky                    19\n",
       "Shetland_sheepdog                 17\n",
       "Boston_bull                       17\n",
       "Lakeland_terrier                  16\n",
       "boxer                             16\n",
       "doormat                           16\n",
       "                                  ..\n",
       "vacuum                             1\n",
       "restaurant                         1\n",
       "goose                              1\n",
       "beach_wagon                        1\n",
       "space_shuttle                      1\n",
       "maze                               1\n",
       "standard_schnauzer                 1\n",
       "grand_piano                        1\n",
       "axolotl                            1\n",
       "Band_Aid                           1\n",
       "snorkel                            1\n",
       "gorilla                            1\n",
       "neck_brace                         1\n",
       "wombat                             1\n",
       "ibex                               1\n",
       "Kerry_blue_terrier                 1\n",
       "passenger_car                      1\n",
       "cheetah                            1\n",
       "loupe                              1\n",
       "crayfish                           1\n",
       "Sussex_spaniel                     1\n",
       "jaguar                             1\n",
       "triceratops                        1\n",
       "dugong                             1\n",
       "pool_table                         1\n",
       "hare                               1\n",
       "hatchet                            1\n",
       "valley                             1\n",
       "cowboy_boot                        1\n",
       "stinkhorn                          1\n",
       "Name: p3, Length: 408, dtype: int64"
      ]
     },
     "execution_count": 25,
     "metadata": {},
     "output_type": "execute_result"
    }
   ],
   "source": [
    "image_prediction.p3.value_counts()"
   ]
  },
  {
   "cell_type": "code",
   "execution_count": 26,
   "metadata": {},
   "outputs": [
    {
     "data": {
      "text/plain": [
       "https://pbs.twimg.com/media/C4KHj-nWQAA3poV.jpg                                            2\n",
       "https://pbs.twimg.com/media/CtzKC7zXEAALfSo.jpg                                            2\n",
       "https://pbs.twimg.com/media/Cwx99rpW8AMk_Ie.jpg                                            2\n",
       "https://pbs.twimg.com/media/CVgdFjNWEAAxmbq.jpg                                            2\n",
       "https://pbs.twimg.com/media/CvaYgDOWgAEfjls.jpg                                            2\n",
       "https://pbs.twimg.com/media/CtKHLuCWYAA2TTs.jpg                                            2\n",
       "https://pbs.twimg.com/media/CkjMx99UoAM2B1a.jpg                                            2\n",
       "https://pbs.twimg.com/media/CdHwZd0VIAA4792.jpg                                            2\n",
       "https://pbs.twimg.com/media/Crwxb5yWgAAX5P_.jpg                                            2\n",
       "https://pbs.twimg.com/ext_tw_video_thumb/815965888126062592/pu/img/JleSw4wRhgKDWQj5.jpg    2\n",
       "https://pbs.twimg.com/media/C2oRbOuWEAAbVSl.jpg                                            2\n",
       "https://pbs.twimg.com/media/C12whDoVEAALRxa.jpg                                            2\n",
       "https://pbs.twimg.com/media/CkNjahBXAAQ2kWo.jpg                                            2\n",
       "https://pbs.twimg.com/media/CYLDikFWEAAIy1y.jpg                                            2\n",
       "https://pbs.twimg.com/media/CcG07BYW0AErrC9.jpg                                            2\n",
       "https://pbs.twimg.com/media/CxqsX-8XUAAEvjD.jpg                                            2\n",
       "https://pbs.twimg.com/media/CV_cnjHWUAADc-c.jpg                                            2\n",
       "https://pbs.twimg.com/media/Co-hmcYXYAASkiG.jpg                                            2\n",
       "https://pbs.twimg.com/media/Ct72q9jWcAAhlnw.jpg                                            2\n",
       "https://pbs.twimg.com/media/CiibOMzUYAA9Mxz.jpg                                            2\n",
       "https://pbs.twimg.com/media/CwiuEJmW8AAZnit.jpg                                            2\n",
       "https://pbs.twimg.com/ext_tw_video_thumb/807106774843039744/pu/img/8XZg1xW35Xp2J6JW.jpg    2\n",
       "https://pbs.twimg.com/media/Cq9guJ5WgAADfpF.jpg                                            2\n",
       "https://pbs.twimg.com/media/CmoPdmHW8AAi8BI.jpg                                            2\n",
       "https://pbs.twimg.com/media/CU3mITUWIAAfyQS.jpg                                            2\n",
       "https://pbs.twimg.com/media/C12x-JTVIAAzdfl.jpg                                            2\n",
       "https://pbs.twimg.com/media/CuRDF-XWcAIZSer.jpg                                            2\n",
       "https://pbs.twimg.com/media/CrXhIqBW8AA6Bse.jpg                                            2\n",
       "https://pbs.twimg.com/media/CtVAvX-WIAAcGTf.jpg                                            2\n",
       "https://pbs.twimg.com/media/CVMOlMiWwAA4Yxl.jpg                                            2\n",
       "                                                                                          ..\n",
       "https://pbs.twimg.com/media/C0N6opSXAAAkCtN.jpg                                            1\n",
       "https://pbs.twimg.com/media/CU7seitWwAArlVy.jpg                                            1\n",
       "https://pbs.twimg.com/media/CV6aMToXIAA7kH4.jpg                                            1\n",
       "https://pbs.twimg.com/media/Cl2LdofXEAATl7x.jpg                                            1\n",
       "https://pbs.twimg.com/media/C1xZGkzWIAA8vh4.jpg                                            1\n",
       "https://pbs.twimg.com/media/DDLdUrqXYAMOVzY.jpg                                            1\n",
       "https://pbs.twimg.com/media/CZ1riVOWwAATfGf.jpg                                            1\n",
       "https://pbs.twimg.com/media/CUQ_QahUAAAVQjn.jpg                                            1\n",
       "https://pbs.twimg.com/media/CYfS75fWAAAllde.jpg                                            1\n",
       "https://pbs.twimg.com/media/CZskaEIWIAUeTr5.jpg                                            1\n",
       "https://pbs.twimg.com/media/CiDap8fWEAAC4iW.jpg                                            1\n",
       "https://pbs.twimg.com/media/C2p_wQyXEAELtvS.jpg                                            1\n",
       "https://pbs.twimg.com/media/C8V0aI5V0AAgO9m.jpg                                            1\n",
       "https://pbs.twimg.com/media/Chfwmd9U4AQTf1b.jpg                                            1\n",
       "https://pbs.twimg.com/media/Cqa1ofnXEAAG0yn.jpg                                            1\n",
       "https://pbs.twimg.com/media/CoOTyXJXEAAtjs9.jpg                                            1\n",
       "https://pbs.twimg.com/media/CbJRrigW0AIcJ2N.jpg                                            1\n",
       "https://pbs.twimg.com/media/CaAhMb1XEAAB6Bz.jpg                                            1\n",
       "https://pbs.twimg.com/media/Ca31BTgWwAA4uNU.jpg                                            1\n",
       "https://pbs.twimg.com/media/ChqK2cVWMAAE5Zj.jpg                                            1\n",
       "https://pbs.twimg.com/media/CU3RLqfW4AE0pbA.jpg                                            1\n",
       "https://pbs.twimg.com/media/CfTLUYWXEAEkyES.jpg                                            1\n",
       "https://pbs.twimg.com/media/CWT2MUgWIAECWig.jpg                                            1\n",
       "https://pbs.twimg.com/media/DBUxSSTXsAA-Jn1.jpg                                            1\n",
       "https://pbs.twimg.com/media/CXCh0QZW8AALdXm.jpg                                            1\n",
       "https://pbs.twimg.com/media/CWoXOfSUAAA4u8g.jpg                                            1\n",
       "https://pbs.twimg.com/media/CVLy3zFWoAA93qJ.jpg                                            1\n",
       "https://pbs.twimg.com/media/CUTILFiWcAE8Rle.jpg                                            1\n",
       "https://pbs.twimg.com/media/CwINKJeW8AYHVkn.jpg                                            1\n",
       "https://pbs.twimg.com/media/CVlkid8WoAAqDlB.jpg                                            1\n",
       "Name: jpg_url, Length: 2009, dtype: int64"
      ]
     },
     "execution_count": 26,
     "metadata": {},
     "output_type": "execute_result"
    }
   ],
   "source": [
    "image_prediction.jpg_url.value_counts()"
   ]
  },
  {
   "cell_type": "code",
   "execution_count": 27,
   "metadata": {},
   "outputs": [
    {
     "name": "stdout",
     "output_type": "stream",
     "text": [
      "<class 'pandas.core.frame.DataFrame'>\n",
      "RangeIndex: 2340 entries, 0 to 2339\n",
      "Data columns (total 3 columns):\n",
      "tweet_id          2340 non-null int64\n",
      "favorite_count    2340 non-null int64\n",
      "retweet_count     2340 non-null int64\n",
      "dtypes: int64(3)\n",
      "memory usage: 54.9 KB\n"
     ]
    }
   ],
   "source": [
    "twitter1.info()"
   ]
  },
  {
   "cell_type": "code",
   "execution_count": 28,
   "metadata": {},
   "outputs": [
    {
     "data": {
      "text/plain": [
       "749075273010798592    1\n",
       "741099773336379392    1\n",
       "798644042770751489    1\n",
       "825120256414846976    1\n",
       "769212283578875904    1\n",
       "700462010979500032    1\n",
       "780858289093574656    1\n",
       "699775878809702401    1\n",
       "880095782870896641    1\n",
       "760521673607086080    1\n",
       "776477788987613185    1\n",
       "691820333922455552    1\n",
       "715696743237730304    1\n",
       "714606013974974464    1\n",
       "760539183865880579    1\n",
       "813157409116065792    1\n",
       "676430933382295552    1\n",
       "743510151680958465    1\n",
       "833722901757046785    1\n",
       "805487436403003392    1\n",
       "759923798737051648    1\n",
       "674742531037511680    1\n",
       "670704688707301377    1\n",
       "667160273090932737    1\n",
       "674394782723014656    1\n",
       "672082170312290304    1\n",
       "670093938074779648    1\n",
       "818259473185828864    1\n",
       "842765311967449089    1\n",
       "809920764300447744    1\n",
       "                     ..\n",
       "870308999962521604    1\n",
       "720775346191278080    1\n",
       "879492040517615616    1\n",
       "775733305207554048    1\n",
       "667911425562669056    1\n",
       "834209720923721728    1\n",
       "825026590719483904    1\n",
       "758405701903519748    1\n",
       "668986018524233728    1\n",
       "690938899477221376    1\n",
       "678800283649069056    1\n",
       "857062103051644929    1\n",
       "783347506784731136    1\n",
       "672068090318987265    1\n",
       "773922284943896577    1\n",
       "816829038950027264    1\n",
       "683773439333797890    1\n",
       "674291837063053312    1\n",
       "837482249356513284    1\n",
       "767500508068192258    1\n",
       "669015743032369152    1\n",
       "886054160059072513    1\n",
       "754482103782404096    1\n",
       "748307329658011649    1\n",
       "715360349751484417    1\n",
       "666817836334096384    1\n",
       "794926597468000259    1\n",
       "673705679337693185    1\n",
       "673342308415348736    1\n",
       "700151421916807169    1\n",
       "Name: tweet_id, Length: 2340, dtype: int64"
      ]
     },
     "execution_count": 28,
     "metadata": {},
     "output_type": "execute_result"
    }
   ],
   "source": [
    "twitter1.tweet_id.value_counts()"
   ]
  },
  {
   "cell_type": "code",
   "execution_count": 29,
   "metadata": {},
   "outputs": [
    {
     "data": {
      "text/plain": [
       "1098     5\n",
       "299      4\n",
       "579      4\n",
       "591      4\n",
       "600      4\n",
       "58       4\n",
       "718      4\n",
       "559      4\n",
       "599      4\n",
       "232      4\n",
       "948      4\n",
       "1217     4\n",
       "57       4\n",
       "1135     4\n",
       "505      4\n",
       "128      4\n",
       "154      4\n",
       "84       4\n",
       "139      3\n",
       "652      3\n",
       "380      3\n",
       "378      3\n",
       "682      3\n",
       "490      3\n",
       "8299     3\n",
       "97       3\n",
       "91       3\n",
       "414      3\n",
       "783      3\n",
       "660      3\n",
       "        ..\n",
       "395      1\n",
       "749      1\n",
       "397      1\n",
       "2452     1\n",
       "405      1\n",
       "409      1\n",
       "2458     1\n",
       "367      1\n",
       "365      1\n",
       "363      1\n",
       "16721    1\n",
       "4407     1\n",
       "313      1\n",
       "103      1\n",
       "2364     1\n",
       "317      1\n",
       "43332    1\n",
       "527      1\n",
       "329      1\n",
       "339      1\n",
       "361      1\n",
       "61785    1\n",
       "347      1\n",
       "6492     1\n",
       "349      1\n",
       "351      1\n",
       "4451     1\n",
       "2406     1\n",
       "2408     1\n",
       "0        1\n",
       "Name: retweet_count, Length: 1728, dtype: int64"
      ]
     },
     "execution_count": 29,
     "metadata": {},
     "output_type": "execute_result"
    }
   ],
   "source": [
    "twitter1.retweet_count.value_counts()"
   ]
  },
  {
   "cell_type": "code",
   "execution_count": 30,
   "metadata": {},
   "outputs": [
    {
     "data": {
      "text/plain": [
       "0        167\n",
       "2762       5\n",
       "4033       3\n",
       "1865       3\n",
       "1767       3\n",
       "305        3\n",
       "468        3\n",
       "330        3\n",
       "1212       3\n",
       "1567       3\n",
       "164        3\n",
       "8485       2\n",
       "737        2\n",
       "2778       2\n",
       "205        2\n",
       "2266       2\n",
       "2758       2\n",
       "705        2\n",
       "679        2\n",
       "2656       2\n",
       "563        2\n",
       "2290       2\n",
       "1126       2\n",
       "2588       2\n",
       "525        2\n",
       "2340       2\n",
       "517        2\n",
       "515        2\n",
       "2560       2\n",
       "1864       2\n",
       "        ... \n",
       "4609       1\n",
       "505        1\n",
       "2498       1\n",
       "41463      1\n",
       "78275      1\n",
       "2500       1\n",
       "3588       1\n",
       "12745      1\n",
       "6602       1\n",
       "4555       1\n",
       "4559       1\n",
       "4561       1\n",
       "467        1\n",
       "2516       1\n",
       "4567       1\n",
       "16861      1\n",
       "10724      1\n",
       "818        1\n",
       "6632       1\n",
       "2538       1\n",
       "4587       1\n",
       "4589       1\n",
       "2542       1\n",
       "2544       1\n",
       "26407      1\n",
       "4595       1\n",
       "10740      1\n",
       "501        1\n",
       "2550       1\n",
       "6152       1\n",
       "Name: favorite_count, Length: 2010, dtype: int64"
      ]
     },
     "execution_count": 30,
     "metadata": {},
     "output_type": "execute_result"
    }
   ],
   "source": [
    "twitter1.favorite_count.value_counts()"
   ]
  },
  {
   "cell_type": "markdown",
   "metadata": {},
   "source": [
    "### Quality Issues identified in each table are as follows :\n",
    "\n",
    "- Twitter DataFrame\n",
    "  - As we can see 181 values in the retweet column, therefore need to remove from the data\n",
    "  - Incorrect datatype as retweeted_status_timestamp and timestamp are defined as object\n",
    "  - Tweet_id should be string and integer\n",
    "  - Missing data in expanded_url column\n",
    "  - Incorrect dog names like: a, an\n",
    "  - Nulls represnted as None in doggo', 'floofer', 'pupper','puppo'\n",
    "  - Remove unnecessary tags in source and we can easily identify the source\n",
    "  - On assessing the twitter_enhanced.csv file you will see on row 46 that the correct rating in the tweet is 13.5 but it's extracted as 5. Hence, changing the data type as float. Extracting decimal value from text column\n",
    "  - Some tweets have multiple stages present in them. These multiple stages(Dogo,Puppo) should be saved separated by comma or using the word\n",
    "\n",
    "\n",
    "- Image Prediction DataFrame\n",
    "  - First letter for few names in columns P1,P2 and P3 are capital\n",
    "  - Combining P1,P2, P3 values into columns called as Breed and confidence\n",
    "  - Less tweet id count compared tweet id count in Twitter dataframe\n",
    "\n",
    "- Twitter1 Dataframe(Json text file)\n",
    "  - Less tweet id count compared tweet id count in Twitter dataframe\n",
    "  \n",
    "\n",
    "### Tidiness Issues are as follows :\n",
    "\n",
    "- Drop columns are not needed for analysis\n",
    "- doggo, floofer, pupper and puppo columns in twitter table should be merged into one column\n",
    "- join all tables together since they are talking about the same tweet\n",
    "\n",
    "\n"
   ]
  },
  {
   "cell_type": "markdown",
   "metadata": {},
   "source": [
    "<a id='Clean'></a>\n",
    "\n",
    "# Cleaning Data\n"
   ]
  },
  {
   "cell_type": "code",
   "execution_count": 31,
   "metadata": {},
   "outputs": [],
   "source": [
    "# Making Copies of all dataframe\n",
    "clean_twitter = twitter.copy()\n",
    "clean_image_prediction = image_prediction.copy()\n",
    "clean_twitter1 = twitter1.copy()"
   ]
  },
  {
   "cell_type": "markdown",
   "metadata": {},
   "source": [
    "### Addressing Data Quality issues\n",
    "\n",
    "#### Twitter Dataframe\n",
    "#### Quality 1 : Remove Retweet"
   ]
  },
  {
   "cell_type": "code",
   "execution_count": 32,
   "metadata": {},
   "outputs": [
    {
     "name": "stdout",
     "output_type": "stream",
     "text": [
      "<class 'pandas.core.frame.DataFrame'>\n",
      "Int64Index: 2175 entries, 0 to 2355\n",
      "Data columns (total 17 columns):\n",
      "tweet_id                      2175 non-null int64\n",
      "in_reply_to_status_id         78 non-null float64\n",
      "in_reply_to_user_id           78 non-null float64\n",
      "timestamp                     2175 non-null object\n",
      "source                        2175 non-null object\n",
      "text                          2175 non-null object\n",
      "retweeted_status_id           0 non-null float64\n",
      "retweeted_status_user_id      0 non-null float64\n",
      "retweeted_status_timestamp    0 non-null object\n",
      "expanded_urls                 2117 non-null object\n",
      "rating_numerator              2175 non-null int64\n",
      "rating_denominator            2175 non-null int64\n",
      "name                          2175 non-null object\n",
      "doggo                         2175 non-null object\n",
      "floofer                       2175 non-null object\n",
      "pupper                        2175 non-null object\n",
      "puppo                         2175 non-null object\n",
      "dtypes: float64(4), int64(3), object(10)\n",
      "memory usage: 305.9+ KB\n"
     ]
    }
   ],
   "source": [
    "# Removing retweets as they are duplicates\n",
    "#Code\n",
    "clean_twitter = clean_twitter[clean_twitter.retweeted_status_id.isnull()]\n",
    "\n",
    "#Test\n",
    "clean_twitter.info()"
   ]
  },
  {
   "cell_type": "markdown",
   "metadata": {},
   "source": [
    "#### Quality 2 :  Incorrect datatype as retweeted_status_timestamp and timestamp are defined as object. Converting them to datatype 'Datetime'"
   ]
  },
  {
   "cell_type": "code",
   "execution_count": 33,
   "metadata": {},
   "outputs": [
    {
     "name": "stdout",
     "output_type": "stream",
     "text": [
      "<class 'pandas.core.frame.DataFrame'>\n",
      "Int64Index: 2175 entries, 0 to 2355\n",
      "Data columns (total 17 columns):\n",
      "tweet_id                      2175 non-null int64\n",
      "in_reply_to_status_id         78 non-null float64\n",
      "in_reply_to_user_id           78 non-null float64\n",
      "timestamp                     2175 non-null datetime64[ns]\n",
      "source                        2175 non-null object\n",
      "text                          2175 non-null object\n",
      "retweeted_status_id           0 non-null float64\n",
      "retweeted_status_user_id      0 non-null float64\n",
      "retweeted_status_timestamp    0 non-null datetime64[ns]\n",
      "expanded_urls                 2117 non-null object\n",
      "rating_numerator              2175 non-null int64\n",
      "rating_denominator            2175 non-null int64\n",
      "name                          2175 non-null object\n",
      "doggo                         2175 non-null object\n",
      "floofer                       2175 non-null object\n",
      "pupper                        2175 non-null object\n",
      "puppo                         2175 non-null object\n",
      "dtypes: datetime64[ns](2), float64(4), int64(3), object(8)\n",
      "memory usage: 305.9+ KB\n"
     ]
    }
   ],
   "source": [
    "# Converting retweeted_status_timestamp and timestamp to Datatime\n",
    "#code\n",
    "clean_twitter.retweeted_status_timestamp = pd.to_datetime(clean_twitter.retweeted_status_timestamp)\n",
    "clean_twitter.timestamp = pd.to_datetime(clean_twitter.timestamp)\n",
    "\n",
    "#Test\n",
    "clean_twitter.info()"
   ]
  },
  {
   "cell_type": "markdown",
   "metadata": {},
   "source": [
    "#### Quality 3 : Tweet_id datatype should be change to String(Object)"
   ]
  },
  {
   "cell_type": "code",
   "execution_count": 34,
   "metadata": {},
   "outputs": [
    {
     "name": "stdout",
     "output_type": "stream",
     "text": [
      "<class 'pandas.core.frame.DataFrame'>\n",
      "Int64Index: 2175 entries, 0 to 2355\n",
      "Data columns (total 17 columns):\n",
      "tweet_id                      2175 non-null object\n",
      "in_reply_to_status_id         78 non-null float64\n",
      "in_reply_to_user_id           78 non-null float64\n",
      "timestamp                     2175 non-null datetime64[ns]\n",
      "source                        2175 non-null object\n",
      "text                          2175 non-null object\n",
      "retweeted_status_id           0 non-null float64\n",
      "retweeted_status_user_id      0 non-null float64\n",
      "retweeted_status_timestamp    0 non-null datetime64[ns]\n",
      "expanded_urls                 2117 non-null object\n",
      "rating_numerator              2175 non-null int64\n",
      "rating_denominator            2175 non-null int64\n",
      "name                          2175 non-null object\n",
      "doggo                         2175 non-null object\n",
      "floofer                       2175 non-null object\n",
      "pupper                        2175 non-null object\n",
      "puppo                         2175 non-null object\n",
      "dtypes: datetime64[ns](2), float64(4), int64(2), object(9)\n",
      "memory usage: 305.9+ KB\n"
     ]
    }
   ],
   "source": [
    "#code\n",
    "clean_twitter.tweet_id = clean_twitter.tweet_id.astype(str)\n",
    "clean_image_prediction.tweet_id = clean_image_prediction.tweet_id.astype(str)\n",
    "clean_twitter1.tweet_id = clean_twitter1.tweet_id.astype(str)\n",
    "# Test\n",
    "clean_twitter.info()"
   ]
  },
  {
   "cell_type": "markdown",
   "metadata": {},
   "source": [
    "#### Quality 4 : Missing data in expanded_url column"
   ]
  },
  {
   "cell_type": "code",
   "execution_count": 35,
   "metadata": {},
   "outputs": [
    {
     "data": {
      "text/plain": [
       "0       False\n",
       "1       False\n",
       "2       False\n",
       "3       False\n",
       "4       False\n",
       "5       False\n",
       "6       False\n",
       "7       False\n",
       "8       False\n",
       "9       False\n",
       "10      False\n",
       "11      False\n",
       "12      False\n",
       "13      False\n",
       "14      False\n",
       "15      False\n",
       "16      False\n",
       "17      False\n",
       "18      False\n",
       "20      False\n",
       "21      False\n",
       "22      False\n",
       "23      False\n",
       "24      False\n",
       "25      False\n",
       "26      False\n",
       "27      False\n",
       "28      False\n",
       "29      False\n",
       "30      False\n",
       "        ...  \n",
       "2326    False\n",
       "2327    False\n",
       "2328    False\n",
       "2329    False\n",
       "2330    False\n",
       "2331    False\n",
       "2332    False\n",
       "2333    False\n",
       "2334    False\n",
       "2335    False\n",
       "2336    False\n",
       "2337    False\n",
       "2338    False\n",
       "2339    False\n",
       "2340    False\n",
       "2341    False\n",
       "2342    False\n",
       "2343    False\n",
       "2344    False\n",
       "2345    False\n",
       "2346    False\n",
       "2347    False\n",
       "2348    False\n",
       "2349    False\n",
       "2350    False\n",
       "2351    False\n",
       "2352    False\n",
       "2353    False\n",
       "2354    False\n",
       "2355    False\n",
       "Name: expanded_urls, Length: 2175, dtype: bool"
      ]
     },
     "execution_count": 35,
     "metadata": {},
     "output_type": "execute_result"
    }
   ],
   "source": [
    "# null expanded url can be generated using tweet_id column\n",
    "#code\n",
    "def add_urls(url):\n",
    "    if pd.notnull(url['expanded_urls']):\n",
    "        return url\n",
    "    else:\n",
    "        # use tweet_id to get the urls\n",
    "        tweet_id =url['tweet_id']\n",
    "        url['expanded_urls'] = 'https://twitter.com/dog_rates/status/{}'.format(tweet_id)\n",
    "        return url\n",
    "    \n",
    "    \n",
    "# Adding missing url to dataframe\n",
    "clean_twitter = clean_twitter.apply(add_urls,axis =1)\n",
    "\n",
    "#test\n",
    "clean_twitter.expanded_urls.isnull()"
   ]
  },
  {
   "cell_type": "markdown",
   "metadata": {},
   "source": [
    "#### Quality 5 : Incorrect dog names. Need to replace all the lowercase names and None with 'Nan' as they are not actual dog names.\n"
   ]
  },
  {
   "cell_type": "code",
   "execution_count": 36,
   "metadata": {},
   "outputs": [
    {
     "name": "stderr",
     "output_type": "stream",
     "text": [
      "/anaconda3/lib/python3.7/site-packages/ipykernel_launcher.py:3: SettingWithCopyWarning: \n",
      "A value is trying to be set on a copy of a slice from a DataFrame\n",
      "\n",
      "See the caveats in the documentation: http://pandas.pydata.org/pandas-docs/stable/indexing.html#indexing-view-versus-copy\n",
      "  This is separate from the ipykernel package so we can avoid doing imports until\n"
     ]
    },
    {
     "data": {
      "text/plain": [
       "Lucy        11\n",
       "Charlie     11\n",
       "Oliver      10\n",
       "Cooper      10\n",
       "Penny        9\n",
       "Tucker       9\n",
       "Lola         8\n",
       "Sadie        8\n",
       "Winston      8\n",
       "Daisy        7\n",
       "Toby         7\n",
       "Bo           6\n",
       "Oscar        6\n",
       "Bella        6\n",
       "Bailey       6\n",
       "Stanley      6\n",
       "Jax          6\n",
       "Koda         6\n",
       "Buddy        5\n",
       "Louis        5\n",
       "Milo         5\n",
       "Chester      5\n",
       "Leo          5\n",
       "Dave         5\n",
       "Rusty        5\n",
       "Bentley      5\n",
       "Scout        5\n",
       "Gary         4\n",
       "Alfie        4\n",
       "Clark        4\n",
       "            ..\n",
       "Bubba        1\n",
       "Ebby         1\n",
       "Bungalo      1\n",
       "Beemo        1\n",
       "Petrick      1\n",
       "Cannon       1\n",
       "Rodman       1\n",
       "Cali         1\n",
       "Angel        1\n",
       "Dewey        1\n",
       "Philippe     1\n",
       "Jockson      1\n",
       "Mitch        1\n",
       "Fwed         1\n",
       "Jeffri       1\n",
       "Cal          1\n",
       "Sparky       1\n",
       "Howie        1\n",
       "Einstein     1\n",
       "Flurpson     1\n",
       "Simba        1\n",
       "Skittles     1\n",
       "Ridley       1\n",
       "Randall      1\n",
       "Emmie        1\n",
       "Tuck         1\n",
       "Pubert       1\n",
       "Jaspers      1\n",
       "Link         1\n",
       "Hurley       1\n",
       "Name: name, Length: 930, dtype: int64"
      ]
     },
     "execution_count": 36,
     "metadata": {},
     "output_type": "execute_result"
    }
   ],
   "source": [
    "# Replacing names with Nan\n",
    "#code\n",
    "clean_twitter['name'][clean_twitter['name'].str.match('[a-z]')] = 'None'\n",
    "clean_twitter.name = clean_twitter.name.replace('None',np.nan)\n",
    "\n",
    "#Test\n",
    "clean_twitter.name.value_counts()"
   ]
  },
  {
   "cell_type": "markdown",
   "metadata": {},
   "source": [
    "#### Quality 6: Nulls represnted as None in doggo', 'floofer', 'pupper','puppo'"
   ]
  },
  {
   "cell_type": "code",
   "execution_count": 37,
   "metadata": {},
   "outputs": [
    {
     "data": {
      "text/plain": [
       "         2088\n",
       "doggo      87\n",
       "Name: doggo, dtype: int64"
      ]
     },
     "execution_count": 37,
     "metadata": {},
     "output_type": "execute_result"
    }
   ],
   "source": [
    "#code\n",
    "clean_twitter.doggo=clean_twitter.doggo.replace('None','')\n",
    "clean_twitter.floofer=clean_twitter.floofer.replace('None','')\n",
    "clean_twitter.pupper=clean_twitter.pupper.replace('None','')\n",
    "clean_twitter.puppo=clean_twitter.puppo.replace('None','')\n",
    "\n",
    "#test\n",
    "clean_twitter.doggo.value_counts()"
   ]
  },
  {
   "cell_type": "markdown",
   "metadata": {},
   "source": [
    "#### Quality 7: Unnecessary html tags in source column. By removing them columns lookinf neat and we can easily identify the source"
   ]
  },
  {
   "cell_type": "code",
   "execution_count": 38,
   "metadata": {},
   "outputs": [
    {
     "data": {
      "text/plain": [
       "0       Twitter for iPhone\n",
       "1       Twitter for iPhone\n",
       "2       Twitter for iPhone\n",
       "3       Twitter for iPhone\n",
       "4       Twitter for iPhone\n",
       "5       Twitter for iPhone\n",
       "6       Twitter for iPhone\n",
       "7       Twitter for iPhone\n",
       "8       Twitter for iPhone\n",
       "9       Twitter for iPhone\n",
       "10      Twitter for iPhone\n",
       "11      Twitter for iPhone\n",
       "12      Twitter for iPhone\n",
       "13      Twitter for iPhone\n",
       "14      Twitter for iPhone\n",
       "15      Twitter for iPhone\n",
       "16      Twitter for iPhone\n",
       "17      Twitter for iPhone\n",
       "18      Twitter for iPhone\n",
       "20      Twitter for iPhone\n",
       "21      Twitter for iPhone\n",
       "22      Twitter for iPhone\n",
       "23      Twitter for iPhone\n",
       "24      Twitter for iPhone\n",
       "25      Twitter for iPhone\n",
       "26      Twitter for iPhone\n",
       "27      Twitter for iPhone\n",
       "28      Twitter for iPhone\n",
       "29      Twitter for iPhone\n",
       "30      Twitter for iPhone\n",
       "               ...        \n",
       "2326    Twitter for iPhone\n",
       "2327    Twitter for iPhone\n",
       "2328    Twitter for iPhone\n",
       "2329    Twitter for iPhone\n",
       "2330    Twitter for iPhone\n",
       "2331    Twitter for iPhone\n",
       "2332    Twitter for iPhone\n",
       "2333    Twitter for iPhone\n",
       "2334    Twitter for iPhone\n",
       "2335    Twitter for iPhone\n",
       "2336    Twitter for iPhone\n",
       "2337    Twitter for iPhone\n",
       "2338    Twitter for iPhone\n",
       "2339    Twitter for iPhone\n",
       "2340    Twitter for iPhone\n",
       "2341    Twitter for iPhone\n",
       "2342    Twitter for iPhone\n",
       "2343    Twitter for iPhone\n",
       "2344    Twitter for iPhone\n",
       "2345    Twitter for iPhone\n",
       "2346    Twitter for iPhone\n",
       "2347    Twitter for iPhone\n",
       "2348    Twitter for iPhone\n",
       "2349    Twitter for iPhone\n",
       "2350    Twitter for iPhone\n",
       "2351    Twitter for iPhone\n",
       "2352    Twitter for iPhone\n",
       "2353    Twitter for iPhone\n",
       "2354    Twitter for iPhone\n",
       "2355    Twitter for iPhone\n",
       "Name: source, Length: 2175, dtype: object"
      ]
     },
     "execution_count": 38,
     "metadata": {},
     "output_type": "execute_result"
    }
   ],
   "source": [
    "#code\n",
    "clean_twitter.source = clean_twitter.source.str.replace(r'<(?:a\\b[^>]*>|/a>)', '')\n",
    "#test\n",
    "clean_twitter.source"
   ]
  },
  {
   "cell_type": "markdown",
   "metadata": {},
   "source": [
    "#### Quality 8 : \n",
    "- On assessing the twitter_enhanced.csv file you will see on row 46 that the correct rating in the tweet is 13.5 but it's extracted as 5. Hence, changing the data type as float.\n",
    "- Extracting decimal value from text column"
   ]
  },
  {
   "cell_type": "code",
   "execution_count": 39,
   "metadata": {},
   "outputs": [
    {
     "name": "stdout",
     "output_type": "stream",
     "text": [
      "<class 'pandas.core.frame.DataFrame'>\n",
      "Int64Index: 2175 entries, 0 to 2355\n",
      "Data columns (total 17 columns):\n",
      "tweet_id                      2175 non-null object\n",
      "in_reply_to_status_id         78 non-null float64\n",
      "in_reply_to_user_id           78 non-null float64\n",
      "timestamp                     2175 non-null datetime64[ns]\n",
      "source                        2175 non-null object\n",
      "text                          2175 non-null object\n",
      "retweeted_status_id           0 non-null float64\n",
      "retweeted_status_user_id      0 non-null float64\n",
      "retweeted_status_timestamp    0 non-null datetime64[ns]\n",
      "expanded_urls                 2175 non-null object\n",
      "rating_numerator              2175 non-null float64\n",
      "rating_denominator            2175 non-null int64\n",
      "name                          1391 non-null object\n",
      "doggo                         2175 non-null object\n",
      "floofer                       2175 non-null object\n",
      "pupper                        2175 non-null object\n",
      "puppo                         2175 non-null object\n",
      "dtypes: datetime64[ns](2), float64(5), int64(1), object(9)\n",
      "memory usage: 305.9+ KB\n"
     ]
    },
    {
     "name": "stderr",
     "output_type": "stream",
     "text": [
      "/anaconda3/lib/python3.7/site-packages/ipykernel_launcher.py:9: UserWarning: This pattern has match groups. To actually get the groups, use str.extract.\n",
      "  if __name__ == '__main__':\n"
     ]
    },
    {
     "data": {
      "text/plain": [
       "12.0      500\n",
       "10.0      442\n",
       "11.0      426\n",
       "13.0      307\n",
       "9.0       156\n",
       "8.0        98\n",
       "7.0        54\n",
       "14.0       43\n",
       "5.0        36\n",
       "6.0        32\n",
       "3.0        19\n",
       "4.0        17\n",
       "2.0         9\n",
       "1.0         8\n",
       "0.0         2\n",
       "420.0       2\n",
       "84.0        1\n",
       "24.0        1\n",
       "27.0        1\n",
       "15.0        1\n",
       "17.0        1\n",
       "960.0       1\n",
       "143.0       1\n",
       "99.0        1\n",
       "666.0       1\n",
       "121.0       1\n",
       "182.0       1\n",
       "165.0       1\n",
       "45.0        1\n",
       "75.0        1\n",
       "204.0       1\n",
       "1776.0      1\n",
       "80.0        1\n",
       "88.0        1\n",
       "144.0       1\n",
       "26.0        1\n",
       "20.0        1\n",
       "44.0        1\n",
       "60.0        1\n",
       "50.0        1\n",
       "Name: rating_numerator, dtype: int64"
      ]
     },
     "execution_count": 39,
     "metadata": {},
     "output_type": "execute_result"
    }
   ],
   "source": [
    "#Converting the datatype as float\n",
    "clean_twitter.rating_numerator  = clean_twitter.rating_numerator .astype(float)\n",
    "\n",
    "#test\n",
    "clean_twitter.info()\n",
    "\n",
    "\n",
    "# Extracting decimal value from text column\n",
    "clean_twitter[clean_twitter.text.str.contains(r\"(\\d+\\.\\d*\\/\\d+)\")][['text', 'rating_numerator']]\n",
    "\n",
    "#Test\n",
    "\n",
    "clean_twitter.rating_numerator.value_counts()"
   ]
  },
  {
   "cell_type": "markdown",
   "metadata": {},
   "source": [
    "#### Quality 9 :Some tweets have multiple stages present in them. These multiple stages(Dogo,Puppo) should be saved separated by comma or using the word"
   ]
  },
  {
   "cell_type": "code",
   "execution_count": 41,
   "metadata": {},
   "outputs": [
    {
     "name": "stdout",
     "output_type": "stream",
     "text": [
      "1\n",
      "1\n",
      "10\n"
     ]
    }
   ],
   "source": [
    "print(len(clean_twitter[(clean_twitter.doggo != '') & (clean_twitter.floofer != '')]))\n",
    "print(len(clean_twitter[(clean_twitter.doggo != '') & (clean_twitter.puppo != '')]))\n",
    "print(len(clean_twitter[(clean_twitter.doggo != '') & (clean_twitter.pupper != '')]))\n"
   ]
  },
  {
   "cell_type": "code",
   "execution_count": 42,
   "metadata": {},
   "outputs": [
    {
     "name": "stdout",
     "output_type": "stream",
     "text": [
      "855851453814013952 Here's a puppo participating in the #ScienceMarch. Cleverly disguising her own doggo agenda. 13/10 would keep the planet habitable for https://t.co/cMhq16isel\n",
      "\n",
      "854010172552949760 At first I thought this was a shy doggo, but it's actually a Rare Canadian Floofer Owl. Amateurs would confuse the two. 11/10 only send dogs https://t.co/TXdT3tmuYk\n",
      "\n"
     ]
    }
   ],
   "source": [
    "# Lets see the text column to understand what value column should represent\n",
    "\n",
    "for i, row in clean_twitter[((clean_twitter.doggo != '') & (clean_twitter.floofer != ''))\n",
    "                   | ((clean_twitter.doggo != '') & (clean_twitter.puppo != ''))].iterrows():\n",
    "    print('%s %s\\n'%(row.tweet_id, row.text))"
   ]
  },
  {
   "cell_type": "code",
   "execution_count": 43,
   "metadata": {},
   "outputs": [
    {
     "name": "stderr",
     "output_type": "stream",
     "text": [
      "/anaconda3/lib/python3.7/site-packages/ipykernel_launcher.py:3: SettingWithCopyWarning: \n",
      "A value is trying to be set on a copy of a slice from a DataFrame\n",
      "\n",
      "See the caveats in the documentation: http://pandas.pydata.org/pandas-docs/stable/indexing.html#indexing-view-versus-copy\n",
      "  This is separate from the ipykernel package so we can avoid doing imports until\n"
     ]
    }
   ],
   "source": [
    "# Removing doggo based on the text above \n",
    "\n",
    "clean_twitter['doggo'][clean_twitter.tweet_id.isin([855851453814013952, 854010172552949760])] = ''"
   ]
  },
  {
   "cell_type": "code",
   "execution_count": 45,
   "metadata": {},
   "outputs": [
    {
     "name": "stdout",
     "output_type": "stream",
     "text": [
      "817777686764523521 This is Dido. She's playing the lead role in \"Pupper Stops to Catch Snow Before Resuming Shadow Box with Dried Apple.\" 13/10 (IG: didodoggo) https://t.co/m7isZrOBX7\n",
      "\n",
      "808106460588765185 Here we have Burke (pupper) and Dexter (doggo). Pupper wants to be exactly like doggo. Both 12/10 would pet at same time https://t.co/ANBpEYHaho\n",
      "\n",
      "802265048156610565 Like doggo, like pupper version 2. Both 11/10 https://t.co/9IxWAXFqze\n",
      "\n",
      "801115127852503040 This is Bones. He's being haunted by another doggo of roughly the same size. 12/10 deep breaths pupper everything's fine https://t.co/55Dqe0SJNj\n",
      "\n",
      "785639753186217984 This is Pinot. He's a sophisticated doggo. You can tell by the hat. Also pointier than your average pupper. Still 10/10 would pet cautiously https://t.co/f2wmLZTPHd\n",
      "\n",
      "781308096455073793 Pupper butt 1, Doggo 0. Both 12/10 https://t.co/WQvcPEpH2u\n",
      "\n",
      "759793422261743616 Meet Maggie &amp; Lila. Maggie is the doggo, Lila is the pupper. They are sisters. Both 12/10 would pet at the same time https://t.co/MYwR4DQKll\n",
      "\n",
      "751583847268179968 Please stop sending it pictures that don't even have a doggo or pupper in them. Churlish af. 5/10 neat couch tho https://t.co/u2c9c7qSg8\n",
      "\n",
      "741067306818797568 This is just downright precious af. 12/10 for both pupper and doggo https://t.co/o5J479bZUC\n",
      "\n",
      "733109485275860992 Like father (doggo), like son (pupper). Both 12/10 https://t.co/pG2inLaOda\n",
      "\n"
     ]
    }
   ],
   "source": [
    "# Now lets address doggo and puppo appearing together\n",
    "for i, row in clean_twitter[((clean_twitter.doggo != '') & (clean_twitter.pupper != ''))].iterrows():\n",
    "    print('%s %s\\n'%(row.tweet_id, row.text))\n",
    "    \n",
    "# Looking at this there is no clear indication which one to keep. \n",
    "#ll use both of them while merging these column into single stage column"
   ]
  },
  {
   "cell_type": "markdown",
   "metadata": {},
   "source": [
    "#### Image_Prediction DataFrame\n",
    "\n",
    "#### Quality 10 : First letter for few names in columns P1,P2 and P3 are capital. Standardize the columns by converting them to lower case."
   ]
  },
  {
   "cell_type": "code",
   "execution_count": 47,
   "metadata": {},
   "outputs": [
    {
     "data": {
      "text/plain": [
       "0            welsh_springer_spaniel\n",
       "1                           redbone\n",
       "2                   german_shepherd\n",
       "3               rhodesian_ridgeback\n",
       "4                miniature_pinscher\n",
       "5              bernese_mountain_dog\n",
       "6                        box_turtle\n",
       "7                              chow\n",
       "8                     shopping_cart\n",
       "9                  miniature_poodle\n",
       "10                 golden_retriever\n",
       "11                    gordon_setter\n",
       "12                     walker_hound\n",
       "13                              pug\n",
       "14                       bloodhound\n",
       "15                            lhasa\n",
       "16                   english_setter\n",
       "17                              hen\n",
       "18                 desktop_computer\n",
       "19                italian_greyhound\n",
       "20                      maltese_dog\n",
       "21                 three-toed_sloth\n",
       "22                               ox\n",
       "23                 golden_retriever\n",
       "24                         malamute\n",
       "25                       guinea_pig\n",
       "26      soft-coated_wheaten_terrier\n",
       "27                        chihuahua\n",
       "28          black-and-tan_coonhound\n",
       "29                             coho\n",
       "                   ...             \n",
       "2045                 french_bulldog\n",
       "2046                    convertible\n",
       "2047                         kuvasz\n",
       "2048                      chihuahua\n",
       "2049                        samoyed\n",
       "2050               mexican_hairless\n",
       "2051                       pembroke\n",
       "2052                      limousine\n",
       "2053                         basset\n",
       "2054                 french_bulldog\n",
       "2055                       pembroke\n",
       "2056                 siberian_husky\n",
       "2057               golden_retriever\n",
       "2058               golden_retriever\n",
       "2059                        whippet\n",
       "2060               golden_retriever\n",
       "2061                 french_bulldog\n",
       "2062                       pembroke\n",
       "2063                 french_bulldog\n",
       "2064                        samoyed\n",
       "2065                       pembroke\n",
       "2066                  irish_terrier\n",
       "2067                     pomeranian\n",
       "2068                    appenzeller\n",
       "2069       chesapeake_bay_retriever\n",
       "2070                         basset\n",
       "2071                    paper_towel\n",
       "2072                      chihuahua\n",
       "2073                      chihuahua\n",
       "2074                         orange\n",
       "Name: p1, Length: 2075, dtype: object"
      ]
     },
     "execution_count": 47,
     "metadata": {},
     "output_type": "execute_result"
    }
   ],
   "source": [
    "#code\n",
    "clean_image_prediction['p1'] = clean_image_prediction['p1'].str.lower()\n",
    "clean_image_prediction['p2'] = clean_image_prediction['p2'].str.lower()\n",
    "clean_image_prediction['p2'] = clean_image_prediction['p2'].str.lower()\n",
    "\n",
    "#Test\n",
    "clean_image_prediction['p1']"
   ]
  },
  {
   "cell_type": "markdown",
   "metadata": {},
   "source": [
    "#### Quality 11: Combining P1,P2, P3 values into columns called as Breed and confidence"
   ]
  },
  {
   "cell_type": "code",
   "execution_count": 48,
   "metadata": {},
   "outputs": [
    {
     "data": {
      "text/plain": [
       "0            welsh_springer_spaniel\n",
       "1                           redbone\n",
       "2                   german_shepherd\n",
       "3               rhodesian_ridgeback\n",
       "4                miniature_pinscher\n",
       "5              bernese_mountain_dog\n",
       "6                    Unidentifiable\n",
       "7                              chow\n",
       "8                  golden_retriever\n",
       "9                  miniature_poodle\n",
       "10                 golden_retriever\n",
       "11                    gordon_setter\n",
       "12                     walker_hound\n",
       "13                              pug\n",
       "14                       bloodhound\n",
       "15                            lhasa\n",
       "16                   english_setter\n",
       "17                   Unidentifiable\n",
       "18                   Unidentifiable\n",
       "19                italian_greyhound\n",
       "20                      maltese_dog\n",
       "21                   Unidentifiable\n",
       "22                     newfoundland\n",
       "23                 golden_retriever\n",
       "24                         malamute\n",
       "25                   Unidentifiable\n",
       "26      soft-coated_wheaten_terrier\n",
       "27                        chihuahua\n",
       "28          black-and-tan_coonhound\n",
       "29                   Unidentifiable\n",
       "                   ...             \n",
       "2045                 french_bulldog\n",
       "2046                 Unidentifiable\n",
       "2047                         kuvasz\n",
       "2048                      chihuahua\n",
       "2049                        samoyed\n",
       "2050               mexican_hairless\n",
       "2051                       pembroke\n",
       "2052                 Unidentifiable\n",
       "2053                         basset\n",
       "2054                 french_bulldog\n",
       "2055                       pembroke\n",
       "2056                 siberian_husky\n",
       "2057               golden_retriever\n",
       "2058               golden_retriever\n",
       "2059                        whippet\n",
       "2060               golden_retriever\n",
       "2061                 french_bulldog\n",
       "2062                       pembroke\n",
       "2063                 french_bulldog\n",
       "2064                        samoyed\n",
       "2065                       pembroke\n",
       "2066                  irish_terrier\n",
       "2067                     pomeranian\n",
       "2068                    appenzeller\n",
       "2069       chesapeake_bay_retriever\n",
       "2070                         basset\n",
       "2071             labrador_retriever\n",
       "2072                      chihuahua\n",
       "2073                      chihuahua\n",
       "2074                 Unidentifiable\n",
       "Name: breed, Length: 2075, dtype: object"
      ]
     },
     "execution_count": 48,
     "metadata": {},
     "output_type": "execute_result"
    }
   ],
   "source": [
    "breed = []\n",
    "conf= []\n",
    "\n",
    "def breed_conf(row):\n",
    "    if row['p1_dog']:\n",
    "        breed.append(row['p1'])\n",
    "        conf.append(row['p1_conf'])\n",
    "    elif row['p2_dog']:\n",
    "        breed.append(row['p2'])\n",
    "        conf.append(row['p2_conf'])\n",
    "    elif row['p3_dog']:\n",
    "        breed.append(row['p3'])\n",
    "        conf.append(row['p3_conf'])\n",
    "    else:\n",
    "        breed.append('Unidentifiable')\n",
    "        conf.append(0)\n",
    "\n",
    "clean_image_prediction.apply(breed_conf, axis = 1)\n",
    "\n",
    "clean_image_prediction['breed'] = breed\n",
    "clean_image_prediction['confidence'] = conf\n",
    "\n",
    "\n",
    "#Test\n",
    "clean_image_prediction['breed']\n"
   ]
  },
  {
   "cell_type": "markdown",
   "metadata": {},
   "source": [
    "#### Tidiness\n",
    "\n",
    "#### 1: Merge all dataset Together\n",
    "\n",
    "Since all the information is about the same tweet; need to merge all the dataset together"
   ]
  },
  {
   "cell_type": "code",
   "execution_count": 49,
   "metadata": {},
   "outputs": [
    {
     "name": "stdout",
     "output_type": "stream",
     "text": [
      "<class 'pandas.core.frame.DataFrame'>\n",
      "Int64Index: 1992 entries, 0 to 1991\n",
      "Data columns (total 32 columns):\n",
      "tweet_id                      1992 non-null object\n",
      "in_reply_to_status_id         23 non-null float64\n",
      "in_reply_to_user_id           23 non-null float64\n",
      "timestamp                     1992 non-null datetime64[ns]\n",
      "source                        1992 non-null object\n",
      "text                          1992 non-null object\n",
      "retweeted_status_id           0 non-null float64\n",
      "retweeted_status_user_id      0 non-null float64\n",
      "retweeted_status_timestamp    0 non-null datetime64[ns]\n",
      "expanded_urls                 1992 non-null object\n",
      "rating_numerator              1992 non-null float64\n",
      "rating_denominator            1992 non-null int64\n",
      "name                          1348 non-null object\n",
      "doggo                         1992 non-null object\n",
      "floofer                       1992 non-null object\n",
      "pupper                        1992 non-null object\n",
      "puppo                         1992 non-null object\n",
      "favorite_count                1992 non-null int64\n",
      "retweet_count                 1992 non-null int64\n",
      "jpg_url                       1992 non-null object\n",
      "img_num                       1992 non-null int64\n",
      "p1                            1992 non-null object\n",
      "p1_conf                       1992 non-null float64\n",
      "p1_dog                        1992 non-null bool\n",
      "p2                            1992 non-null object\n",
      "p2_conf                       1992 non-null float64\n",
      "p2_dog                        1992 non-null bool\n",
      "p3                            1992 non-null object\n",
      "p3_conf                       1992 non-null float64\n",
      "p3_dog                        1992 non-null bool\n",
      "breed                         1992 non-null object\n",
      "confidence                    1992 non-null float64\n",
      "dtypes: bool(3), datetime64[ns](2), float64(9), int64(4), object(14)\n",
      "memory usage: 472.7+ KB\n"
     ]
    }
   ],
   "source": [
    "#code\n",
    "dfs = [clean_twitter, clean_twitter1, clean_image_prediction]\n",
    "twitter_archive_master = reduce(lambda left,right: pd.merge(left,right,on='tweet_id'), dfs)\n",
    "#test\n",
    "twitter_archive_master.info()"
   ]
  },
  {
   "cell_type": "markdown",
   "metadata": {},
   "source": [
    "#### 2: Doggo, floofer, pupper and puppo columns in twitter table should be merged into one column \"Stage\" and also convert the datatype from string to category for analysis purpose"
   ]
  },
  {
   "cell_type": "code",
   "execution_count": 64,
   "metadata": {},
   "outputs": [
    {
     "name": "stdout",
     "output_type": "stream",
     "text": [
      "<class 'pandas.core.frame.DataFrame'>\n",
      "Int64Index: 1992 entries, 0 to 1991\n",
      "Data columns (total 33 columns):\n",
      "tweet_id                      1992 non-null object\n",
      "in_reply_to_status_id         23 non-null float64\n",
      "in_reply_to_user_id           23 non-null float64\n",
      "timestamp                     1992 non-null datetime64[ns]\n",
      "source                        1992 non-null object\n",
      "text                          1992 non-null object\n",
      "retweeted_status_id           0 non-null float64\n",
      "retweeted_status_user_id      0 non-null float64\n",
      "retweeted_status_timestamp    0 non-null datetime64[ns]\n",
      "expanded_urls                 1992 non-null object\n",
      "rating_numerator              1992 non-null float64\n",
      "rating_denominator            1992 non-null int64\n",
      "name                          1348 non-null object\n",
      "doggo                         1992 non-null object\n",
      "floofer                       1992 non-null object\n",
      "pupper                        1992 non-null object\n",
      "puppo                         1992 non-null object\n",
      "favorite_count                1992 non-null int64\n",
      "retweet_count                 1992 non-null int64\n",
      "jpg_url                       1992 non-null object\n",
      "img_num                       1992 non-null int64\n",
      "p1                            1992 non-null object\n",
      "p1_conf                       1992 non-null float64\n",
      "p1_dog                        1992 non-null bool\n",
      "p2                            1992 non-null object\n",
      "p2_conf                       1992 non-null float64\n",
      "p2_dog                        1992 non-null bool\n",
      "p3                            1992 non-null object\n",
      "p3_conf                       1992 non-null float64\n",
      "p3_dog                        1992 non-null bool\n",
      "breed                         1992 non-null object\n",
      "confidence                    1992 non-null float64\n",
      "stage                         1992 non-null category\n",
      "dtypes: bool(3), category(1), datetime64[ns](2), float64(9), int64(4), object(14)\n",
      "memory usage: 475.0+ KB\n"
     ]
    }
   ],
   "source": [
    "#code\n",
    "#Merge them into single colum also addressing multiple values \n",
    "\n",
    "def get_stage(row):\n",
    "    # Keep all dog stages ()\n",
    "    stage = []\n",
    "    \n",
    "    # Record all times dog stage is given\n",
    "    if row['doggo'] == 'doggo':\n",
    "        stage.append('doggo')\n",
    "    if row['floofer'] == 'floofer':\n",
    "        stage.append('floofer')\n",
    "    if row['pupper'] == 'pupper':\n",
    "        stage.append('pupper')\n",
    "    if row['puppo'] == 'puppo':\n",
    "        stage.append('puppo')\n",
    "        \n",
    "    if len(stage) < 1: # Default to 'None' if list is empty\n",
    "        row['stage'] = ''\n",
    "    else: \n",
    "        # Update the row and give back the final row\n",
    "        row['stage'] = ','.join(stage)\n",
    "\n",
    "        #Return updated column\n",
    "    return row\n",
    "\n",
    "# Apply to each row\n",
    "twitter_archive_master = twitter_archive_master.apply(get_stage, axis=1)\n",
    "\n",
    "#Converting Datatype\n",
    "twitter_archive_master.stage = twitter_archive_master.stage.astype('category')\n",
    "\n",
    "# test\n",
    "twitter_archive_master.info()\n"
   ]
  },
  {
   "cell_type": "markdown",
   "metadata": {},
   "source": [
    "#### 3: Remove unwanted columns from the Twitter dataset which will make it look more clean."
   ]
  },
  {
   "cell_type": "code",
   "execution_count": 65,
   "metadata": {},
   "outputs": [
    {
     "name": "stdout",
     "output_type": "stream",
     "text": [
      "<class 'pandas.core.frame.DataFrame'>\n",
      "Int64Index: 1992 entries, 0 to 1991\n",
      "Data columns (total 12 columns):\n",
      "tweet_id              1992 non-null object\n",
      "timestamp             1992 non-null datetime64[ns]\n",
      "rating_numerator      1992 non-null float64\n",
      "rating_denominator    1992 non-null int64\n",
      "name                  1348 non-null object\n",
      "favorite_count        1992 non-null int64\n",
      "retweet_count         1992 non-null int64\n",
      "jpg_url               1992 non-null object\n",
      "img_num               1992 non-null int64\n",
      "breed                 1992 non-null object\n",
      "confidence            1992 non-null float64\n",
      "stage                 1992 non-null category\n",
      "dtypes: category(1), datetime64[ns](1), float64(2), int64(4), object(4)\n",
      "memory usage: 189.1+ KB\n"
     ]
    }
   ],
   "source": [
    "#remove unwanted columns from Twitter Column\n",
    "twitter_archive_master.drop(['retweeted_status_user_id',\n",
    "               'retweeted_status_id',\n",
    "               'retweeted_status_timestamp',\n",
    "               'in_reply_to_status_id',\n",
    "               'in_reply_to_user_id',\n",
    "               'in_reply_to_status_id',\n",
    "               'expanded_urls',\n",
    "               'source',\n",
    "               'doggo',\n",
    "               'floofer',\n",
    "               'pupper',\n",
    "               'puppo',\n",
    "               'text',\n",
    "                'p1', \n",
    "               'p1_conf', \n",
    "                'p1_dog', \n",
    "                'p2',\n",
    "                'p2_conf',\n",
    "                'p2_dog', \n",
    "                'p3', \n",
    "                'p3_conf', \n",
    "                'p3_dog'],axis=1,inplace=True)\n",
    "#test\n",
    "twitter_archive_master.info()"
   ]
  },
  {
   "cell_type": "markdown",
   "metadata": {},
   "source": [
    "<a id='sav'></a>\n",
    "# Storing, Analyzing, and Visualizing"
   ]
  },
  {
   "cell_type": "code",
   "execution_count": 66,
   "metadata": {},
   "outputs": [],
   "source": [
    "# Storing the dataframe as csv\n",
    "twitter_archive_master .to_csv('twitter_archive_master.csv',index=False)"
   ]
  },
  {
   "cell_type": "markdown",
   "metadata": {},
   "source": [
    "# Analyzing and Visualizing Data"
   ]
  },
  {
   "cell_type": "code",
   "execution_count": 67,
   "metadata": {},
   "outputs": [
    {
     "data": {
      "text/plain": [
       "Text(0, 0.5, 'Count of Tweets')"
      ]
     },
     "execution_count": 67,
     "metadata": {},
     "output_type": "execute_result"
    },
    {
     "data": {
      "image/png": "[encoded data removed]",
      "text/plain": [
       "<Figure size 432x288 with 1 Axes>"
      ]
     },
     "metadata": {
      "needs_background": "light"
     },
     "output_type": "display_data"
    }
   ],
   "source": [
    "#Visualization 1:\n",
    "#Tweet Trends over Time(Year)\n",
    "\n",
    "tweet_year = twitter_archive_master.tweet_id.groupby(twitter_archive_master['timestamp'].dt.year).count()\n",
    "df = tweet_year.plot('bar',title =' Tweets Tends over Time')\n",
    "df.set_xlabel(\"Year\")\n",
    "df.set_ylabel(\"Count of Tweets\")\n"
   ]
  },
  {
   "cell_type": "code",
   "execution_count": 68,
   "metadata": {},
   "outputs": [
    {
     "data": {
      "text/plain": [
       "Text(0, 0.5, 'Count of Tweets')"
      ]
     },
     "execution_count": 68,
     "metadata": {},
     "output_type": "execute_result"
    },
    {
     "data": {
      "image/png": "[encoded data removed]",
      "text/plain": [
       "<Figure size 432x288 with 1 Axes>"
      ]
     },
     "metadata": {
      "needs_background": "light"
     },
     "output_type": "display_data"
    }
   ],
   "source": [
    "#Visualization 1:\n",
    "#Tweet Trends over Time(Month)\n",
    "\n",
    "tweet_month = twitter_archive_master.tweet_id.groupby(twitter_archive_master['timestamp'].dt.month).count()\n",
    "df1 = tweet_month.plot('bar',title =' Tweets Tends over Time')\n",
    "df1.set_xlabel(\"Month\")\n",
    "df1.set_ylabel(\"Count of Tweets\")"
   ]
  },
  {
   "cell_type": "markdown",
   "metadata": {},
   "source": [
    "#### As we can observe, in year 2016 the number of tweets were greater compared to other years. Also, usually number of tweets are higher in the month Nov and Dec."
   ]
  },
  {
   "cell_type": "code",
   "execution_count": 69,
   "metadata": {},
   "outputs": [
    {
     "data": {
      "image/png": "[encoded data removed]",
      "text/plain": [
       "<Figure size 432x288 with 1 Axes>"
      ]
     },
     "metadata": {
      "needs_background": "light"
     },
     "output_type": "display_data"
    }
   ],
   "source": [
    "# Visualization 2: Trend of Retweet and Favorites\n",
    "twitter_archive_master.retweet_count.groupby([twitter_archive_master[\"timestamp\"].dt.year, twitter_archive_master[\"timestamp\"].dt.month]).mean().plot('line')\n",
    "twitter_archive_master.favorite_count.groupby([twitter_archive_master[\"timestamp\"].dt.year, twitter_archive_master[\"timestamp\"].dt.month]).mean().plot('line').set_ylim(0, )\n",
    "plt.title('Retweeting and Favoriting trend over time')\n",
    "plt.ylabel('Count')\n",
    "plt.xlabel('(Year, Month)')\n",
    "plt.legend(('Retweets', 'Favorites'))\n",
    "plt.savefig('ret_fav')"
   ]
  },
  {
   "cell_type": "code",
   "execution_count": 70,
   "metadata": {},
   "outputs": [
    {
     "data": {
      "text/plain": [
       "Text(0.5, 1.0, 'Favorite vs Retweet Scatter plot')"
      ]
     },
     "execution_count": 70,
     "metadata": {},
     "output_type": "execute_result"
    },
    {
     "data": {
      "image/png": "[encoded data removed]",
      "text/plain": [
       "<Figure size 432x288 with 1 Axes>"
      ]
     },
     "metadata": {
      "needs_background": "light"
     },
     "output_type": "display_data"
    }
   ],
   "source": [
    "#Visulization 2:\n",
    "\n",
    "#Correlation between retweet and favourite_count\n",
    "twitter_archive_master.plot(kind='scatter',x= 'favorite_count',y = 'retweet_count',alpha =0.5)\n",
    "plt.xlabel('Favorites')\n",
    "plt.ylabel('Retweet')\n",
    "plt.title('Favorite vs Retweet Scatter plot')"
   ]
  },
  {
   "cell_type": "markdown",
   "metadata": {},
   "source": [
    "#### Scatter plots people are retweeting is highly correlated with favorites"
   ]
  },
  {
   "cell_type": "code",
   "execution_count": 71,
   "metadata": {},
   "outputs": [
    {
     "data": {
      "text/plain": [
       "Text(0.5, 1.0, 'Top 8 Dog Names')"
      ]
     },
     "execution_count": 71,
     "metadata": {},
     "output_type": "execute_result"
    },
    {
     "data": {
      "image/png": "[encoded data removed]",
      "text/plain": [
       "<Figure size 432x288 with 1 Axes>"
      ]
     },
     "metadata": {},
     "output_type": "display_data"
    }
   ],
   "source": [
    "# Visualization 3:\n",
    "# Most common dog name:\n",
    "\n",
    "twitter_archive_master.name.value_counts()[1:9].plot('pie')\n",
    "plt.title('Top 8 Dog Names')"
   ]
  },
  {
   "cell_type": "code",
   "execution_count": 72,
   "metadata": {},
   "outputs": [
    {
     "data": {
      "text/plain": [
       "Text(0.5, 1.0, 'Top 10 Common Dog Names')"
      ]
     },
     "execution_count": 72,
     "metadata": {},
     "output_type": "execute_result"
    },
    {
     "data": {
      "image/png": "[encoded data removed]",
      "text/plain": [
       "<Figure size 432x288 with 1 Axes>"
      ]
     },
     "metadata": {
      "needs_background": "light"
     },
     "output_type": "display_data"
    }
   ],
   "source": [
    "# Visualization 4:\n",
    "# Most common dog Breed:\n",
    "\n",
    "twitter_archive_master.breed.value_counts()[1:11].plot('bar')\n",
    "plt.xlabel('Dog Breed')\n",
    "plt.ylabel('Count of most common Breed')\n",
    "plt.title('Top 10 Common Dog Names')"
   ]
  },
  {
   "cell_type": "markdown",
   "metadata": {},
   "source": [
    "#### There could be multiple reasons as why these breeds are famous\n",
    "- People or machine can easily recognize them\n",
    "- Most commonly owned\n"
   ]
  },
  {
   "cell_type": "code",
   "execution_count": 73,
   "metadata": {},
   "outputs": [
    {
     "data": {
      "image/png": "[encoded data removed]",
      "text/plain": [
       "<Figure size 720x432 with 1 Axes>"
      ]
     },
     "metadata": {
      "needs_background": "light"
     },
     "output_type": "display_data"
    }
   ],
   "source": [
    "#Visualization 5 : \n",
    "# Plot the Dog_Stage with ratings\n",
    "plt.rcParams['figure.figsize']=(10,6)\n",
    "twitter_archive_master[pd.notnull(twitter_archive_master['stage'])].boxplot(column = ['rating_numerator'], by = ['stage'])\n",
    "plt.ylim((6,15))\n",
    "plt.title('Boxplot ratings for different Dog_Stage')\n",
    "plt.xlabel('Doggo_Stage')\n",
    "plt.ylabel('Rating');"
   ]
  },
  {
   "cell_type": "markdown",
   "metadata": {},
   "source": [
    "#### Puppo dogs are consistently rated higher than others"
   ]
  }
 ],
 "metadata": {
  "kernelspec": {
   "display_name": "Python 3",
   "language": "python",
   "name": "python3"
  },
  "language_info": {
   "codemirror_mode": {
    "name": "ipython",
    "version": 3
   },
   "file_extension": ".py",
   "mimetype": "text/x-python",
   "name": "python",
   "nbconvert_exporter": "python",
   "pygments_lexer": "ipython3",
   "version": "3.7.1"
  }
 },
 "nbformat": 4,
 "nbformat_minor": 2
}
